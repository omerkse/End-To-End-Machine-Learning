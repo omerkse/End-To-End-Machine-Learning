{
 "cells": [
  {
   "cell_type": "code",
   "execution_count": 1,
   "id": "e79faa9c",
   "metadata": {},
   "outputs": [],
   "source": [
    "import pandas as pd\n",
    "import numpy as np\n",
    "import matplotlib.pyplot as plt\n",
    "import seaborn as sns"
   ]
  },
  {
   "cell_type": "code",
   "execution_count": 2,
   "id": "dc8a7da8",
   "metadata": {},
   "outputs": [],
   "source": [
    "data = pd.read_csv(\"../Data/robot_supurge_trendyol_data2.csv\")"
   ]
  },
  {
   "cell_type": "code",
   "execution_count": 4,
   "id": "9920510c",
   "metadata": {},
   "outputs": [
    {
     "name": "stdout",
     "output_type": "stream",
     "text": [
      "<class 'pandas.core.frame.DataFrame'>\n",
      "RangeIndex: 734 entries, 0 to 733\n",
      "Data columns (total 23 columns):\n",
      " #   Column                       Non-Null Count  Dtype \n",
      "---  ------                       --------------  ----- \n",
      " 0   AÅŸÄ±labilir Engel Seviyesi  47 non-null     object\n",
      " 1   Aşılabilir Engel Seviyesi    604 non-null    object\n",
      " 2   Garanti SÃ¼resi              51 non-null     object\n",
      " 3   Garanti Süresi               620 non-null    object\n",
      " 4   Garanti Tipi                 572 non-null    object\n",
      " 5   GÃ¼Ã§ (Watt)                 51 non-null     object\n",
      " 6   Güç (Watt)                   620 non-null    object\n",
      " 7   HaritalandÄ±rma              48 non-null     object\n",
      " 8   Haritalandırma               606 non-null    object\n",
      " 9   Hazne Kapasitesi             651 non-null    object\n",
      " 10  Ses Seviyesi                 671 non-null    object\n",
      " 11  Uygulama Ãœzerinden Kontrol  47 non-null     object\n",
      " 12  Uygulama Üzerinden Kontrol   604 non-null    object\n",
      " 13  Yer Silme Ã–zelliÄŸi         47 non-null     object\n",
      " 14  Yer Silme Özelliği           604 non-null    object\n",
      " 15  Ã–zellik                     48 non-null     object\n",
      " 16  Ã‡alÄ±ÅŸma Modu SayÄ±sÄ±     39 non-null     object\n",
      " 17  ÅžarjlÄ± KullanÄ±m SÃ¼resi   42 non-null     object\n",
      " 18  Çalışma Modu Sayısı          463 non-null    object\n",
      " 19  Özellik                      490 non-null    object\n",
      " 20  Şarjlı Kullanım Süresi       479 non-null    object\n",
      " 21  url                          734 non-null    object\n",
      " 22  price                        734 non-null    object\n",
      "dtypes: object(23)\n",
      "memory usage: 132.0+ KB\n"
     ]
    }
   ],
   "source": [
    "\n",
    "data.info()"
   ]
  },
  {
   "cell_type": "code",
   "execution_count": 5,
   "id": "1faa736b",
   "metadata": {},
   "outputs": [],
   "source": [
    "data = data.drop(['AÅŸÄ±labilir Engel Seviyesi', 'Garanti SÃ¼resi','GÃ¼Ã§ (Watt)','HaritalandÄ±rma',\n",
    "            'Yer Silme Ã–zelliÄŸi','Ã–zellik','Ã‡alÄ±ÅŸma Modu SayÄ±sÄ±','Uygulama Ãœzerinden Kontrol','ÅžarjlÄ± KullanÄ±m SÃ¼resi','Garanti Süresi','Garanti Tipi','Ses Seviyesi','Güç (Watt)'], axis=1)"
   ]
  },
  {
   "cell_type": "code",
   "execution_count": 6,
   "id": "76fbef83",
   "metadata": {},
   "outputs": [
    {
     "data": {
      "text/plain": [
       "Index(['Aşılabilir Engel Seviyesi', 'Haritalandırma', 'Hazne Kapasitesi',\n",
       "       'Uygulama Üzerinden Kontrol', 'Yer Silme Özelliği',\n",
       "       'Çalışma Modu Sayısı', 'Özellik', 'Şarjlı Kullanım Süresi', 'url',\n",
       "       'price'],\n",
       "      dtype='object')"
      ]
     },
     "execution_count": 6,
     "metadata": {},
     "output_type": "execute_result"
    }
   ],
   "source": [
    "data.columns"
   ]
  },
  {
   "cell_type": "code",
   "execution_count": 7,
   "id": "9fb1b461",
   "metadata": {},
   "outputs": [
    {
     "data": {
      "text/html": [
       "<div>\n",
       "<style scoped>\n",
       "    .dataframe tbody tr th:only-of-type {\n",
       "        vertical-align: middle;\n",
       "    }\n",
       "\n",
       "    .dataframe tbody tr th {\n",
       "        vertical-align: top;\n",
       "    }\n",
       "\n",
       "    .dataframe thead th {\n",
       "        text-align: right;\n",
       "    }\n",
       "</style>\n",
       "<table border=\"1\" class=\"dataframe\">\n",
       "  <thead>\n",
       "    <tr style=\"text-align: right;\">\n",
       "      <th></th>\n",
       "      <th>Aşılabilir Engel Seviyesi</th>\n",
       "      <th>Haritalandırma</th>\n",
       "      <th>Hazne Kapasitesi</th>\n",
       "      <th>Uygulama Üzerinden Kontrol</th>\n",
       "      <th>Yer Silme Özelliği</th>\n",
       "      <th>Çalışma Modu Sayısı</th>\n",
       "      <th>Özellik</th>\n",
       "      <th>Şarjlı Kullanım Süresi</th>\n",
       "      <th>url</th>\n",
       "      <th>price</th>\n",
       "    </tr>\n",
       "  </thead>\n",
       "  <tbody>\n",
       "    <tr>\n",
       "      <th>0</th>\n",
       "      <td>2 cm</td>\n",
       "      <td>Lazer (LIDAR + SLAM)</td>\n",
       "      <td>250-500 L</td>\n",
       "      <td>Var</td>\n",
       "      <td>Var</td>\n",
       "      <td>3+</td>\n",
       "      <td>Robot</td>\n",
       "      <td>60 - 120 dk</td>\n",
       "      <td>https://www.trendyol.com//xiaomi/mi-robot-vaku...</td>\n",
       "      <td>9.299 TL</td>\n",
       "    </tr>\n",
       "    <tr>\n",
       "      <th>1</th>\n",
       "      <td>NaN</td>\n",
       "      <td>NaN</td>\n",
       "      <td>NaN</td>\n",
       "      <td>NaN</td>\n",
       "      <td>NaN</td>\n",
       "      <td>NaN</td>\n",
       "      <td>NaN</td>\n",
       "      <td>NaN</td>\n",
       "      <td>https://www.trendyol.com//roborock/s8-sonic-mo...</td>\n",
       "      <td>18.499 TL</td>\n",
       "    </tr>\n",
       "    <tr>\n",
       "      <th>2</th>\n",
       "      <td>NaN</td>\n",
       "      <td>NaN</td>\n",
       "      <td>NaN</td>\n",
       "      <td>NaN</td>\n",
       "      <td>NaN</td>\n",
       "      <td>NaN</td>\n",
       "      <td>NaN</td>\n",
       "      <td>NaN</td>\n",
       "      <td>https://www.trendyol.com//roborock/s8-sonic-ro...</td>\n",
       "      <td>17.099 TL</td>\n",
       "    </tr>\n",
       "    <tr>\n",
       "      <th>3</th>\n",
       "      <td>NaN</td>\n",
       "      <td>NaN</td>\n",
       "      <td>NaN</td>\n",
       "      <td>NaN</td>\n",
       "      <td>NaN</td>\n",
       "      <td>NaN</td>\n",
       "      <td>NaN</td>\n",
       "      <td>NaN</td>\n",
       "      <td>https://www.trendyol.com//roidmi/eve-plus-akil...</td>\n",
       "      <td>14.499 TL</td>\n",
       "    </tr>\n",
       "    <tr>\n",
       "      <th>4</th>\n",
       "      <td>1 cm</td>\n",
       "      <td>Lazer (LIDAR + SLAM)</td>\n",
       "      <td>250-500 L</td>\n",
       "      <td>Var</td>\n",
       "      <td>Var</td>\n",
       "      <td>3+</td>\n",
       "      <td>Robot</td>\n",
       "      <td>120 dk ve üzeri</td>\n",
       "      <td>https://www.trendyol.com//roborock/q7-max-beya...</td>\n",
       "      <td>14.599 TL</td>\n",
       "    </tr>\n",
       "    <tr>\n",
       "      <th>5</th>\n",
       "      <td>NaN</td>\n",
       "      <td>NaN</td>\n",
       "      <td>250-500 L</td>\n",
       "      <td>NaN</td>\n",
       "      <td>NaN</td>\n",
       "      <td>NaN</td>\n",
       "      <td>NaN</td>\n",
       "      <td>NaN</td>\n",
       "      <td>https://www.trendyol.com//fakir/robert-rs-770-...</td>\n",
       "      <td>10.390 TL</td>\n",
       "    </tr>\n",
       "    <tr>\n",
       "      <th>6</th>\n",
       "      <td>NaN</td>\n",
       "      <td>NaN</td>\n",
       "      <td>0-250 L</td>\n",
       "      <td>NaN</td>\n",
       "      <td>NaN</td>\n",
       "      <td>NaN</td>\n",
       "      <td>NaN</td>\n",
       "      <td>NaN</td>\n",
       "      <td>https://www.trendyol.com//philips/3000-serisi-...</td>\n",
       "      <td>11.299 TL</td>\n",
       "    </tr>\n",
       "    <tr>\n",
       "      <th>7</th>\n",
       "      <td>NaN</td>\n",
       "      <td>NaN</td>\n",
       "      <td>NaN</td>\n",
       "      <td>NaN</td>\n",
       "      <td>NaN</td>\n",
       "      <td>NaN</td>\n",
       "      <td>NaN</td>\n",
       "      <td>NaN</td>\n",
       "      <td>https://www.trendyol.com//simart-teknoloji/sim...</td>\n",
       "      <td>7.999 TL</td>\n",
       "    </tr>\n",
       "    <tr>\n",
       "      <th>8</th>\n",
       "      <td>2 cm</td>\n",
       "      <td>Kamera (VSLAM + SLAM)</td>\n",
       "      <td>500-1000 L</td>\n",
       "      <td>Var</td>\n",
       "      <td>Var</td>\n",
       "      <td>3+</td>\n",
       "      <td>Robot</td>\n",
       "      <td>60 - 120 dk</td>\n",
       "      <td>https://www.trendyol.com//xiaomi/mi-robot-vacu...</td>\n",
       "      <td>8.470 TL</td>\n",
       "    </tr>\n",
       "    <tr>\n",
       "      <th>9</th>\n",
       "      <td>NaN</td>\n",
       "      <td>NaN</td>\n",
       "      <td>0-250 L</td>\n",
       "      <td>NaN</td>\n",
       "      <td>NaN</td>\n",
       "      <td>NaN</td>\n",
       "      <td>NaN</td>\n",
       "      <td>NaN</td>\n",
       "      <td>https://www.trendyol.com//xiaomi/robot-vacuum-...</td>\n",
       "      <td>11.499 TL</td>\n",
       "    </tr>\n",
       "  </tbody>\n",
       "</table>\n",
       "</div>"
      ],
      "text/plain": [
       "  Aşılabilir Engel Seviyesi         Haritalandırma Hazne Kapasitesi  \\\n",
       "0                      2 cm   Lazer (LIDAR + SLAM)        250-500 L   \n",
       "1                       NaN                    NaN              NaN   \n",
       "2                       NaN                    NaN              NaN   \n",
       "3                       NaN                    NaN              NaN   \n",
       "4                      1 cm   Lazer (LIDAR + SLAM)        250-500 L   \n",
       "5                       NaN                    NaN        250-500 L   \n",
       "6                       NaN                    NaN          0-250 L   \n",
       "7                       NaN                    NaN              NaN   \n",
       "8                      2 cm  Kamera (VSLAM + SLAM)       500-1000 L   \n",
       "9                       NaN                    NaN          0-250 L   \n",
       "\n",
       "  Uygulama Üzerinden Kontrol Yer Silme Özelliği Çalışma Modu Sayısı Özellik  \\\n",
       "0                        Var                Var                  3+   Robot   \n",
       "1                        NaN                NaN                 NaN     NaN   \n",
       "2                        NaN                NaN                 NaN     NaN   \n",
       "3                        NaN                NaN                 NaN     NaN   \n",
       "4                        Var                Var                  3+   Robot   \n",
       "5                        NaN                NaN                 NaN     NaN   \n",
       "6                        NaN                NaN                 NaN     NaN   \n",
       "7                        NaN                NaN                 NaN     NaN   \n",
       "8                        Var                Var                  3+   Robot   \n",
       "9                        NaN                NaN                 NaN     NaN   \n",
       "\n",
       "  Şarjlı Kullanım Süresi                                                url  \\\n",
       "0            60 - 120 dk  https://www.trendyol.com//xiaomi/mi-robot-vaku...   \n",
       "1                    NaN  https://www.trendyol.com//roborock/s8-sonic-mo...   \n",
       "2                    NaN  https://www.trendyol.com//roborock/s8-sonic-ro...   \n",
       "3                    NaN  https://www.trendyol.com//roidmi/eve-plus-akil...   \n",
       "4        120 dk ve üzeri  https://www.trendyol.com//roborock/q7-max-beya...   \n",
       "5                    NaN  https://www.trendyol.com//fakir/robert-rs-770-...   \n",
       "6                    NaN  https://www.trendyol.com//philips/3000-serisi-...   \n",
       "7                    NaN  https://www.trendyol.com//simart-teknoloji/sim...   \n",
       "8            60 - 120 dk  https://www.trendyol.com//xiaomi/mi-robot-vacu...   \n",
       "9                    NaN  https://www.trendyol.com//xiaomi/robot-vacuum-...   \n",
       "\n",
       "       price  \n",
       "0   9.299 TL  \n",
       "1  18.499 TL  \n",
       "2  17.099 TL  \n",
       "3  14.499 TL  \n",
       "4  14.599 TL  \n",
       "5  10.390 TL  \n",
       "6  11.299 TL  \n",
       "7   7.999 TL  \n",
       "8   8.470 TL  \n",
       "9  11.499 TL  "
      ]
     },
     "execution_count": 7,
     "metadata": {},
     "output_type": "execute_result"
    }
   ],
   "source": [
    "data.head(10)"
   ]
  },
  {
   "cell_type": "code",
   "execution_count": 8,
   "id": "7edcf94b",
   "metadata": {},
   "outputs": [],
   "source": [
    "for i in range(0,100):\n",
    "    data[\"price\"] = data.price.str.replace(',{}'.format(i), '')\n",
    "\n",
    "data[\"price\"] = data.price.str.replace(',00'.format(i), '')\n",
    "data[\"price\"] = data.price.str.replace(',01'.format(i), '')\n",
    "data[\"price\"] = data.price.str.replace(',02'.format(i), '')\n",
    "data[\"price\"] = data.price.str.replace(',03'.format(i), '')\n",
    "data[\"price\"] = data.price.str.replace(',04'.format(i), '')\n",
    "data[\"price\"] = data.price.str.replace(',05'.format(i), '')\n",
    "data[\"price\"] = data.price.str.replace(',06'.format(i), '')\n",
    "data[\"price\"] = data.price.str.replace(',07'.format(i), '')\n",
    "data[\"price\"] = data.price.str.replace(',08'.format(i), '')\n",
    "data[\"price\"] = data.price.str.replace(',09'.format(i), '')\n",
    "data[\"price\"] = data.price.str.replace('.', '')"
   ]
  },
  {
   "cell_type": "code",
   "execution_count": 9,
   "id": "f55acd26",
   "metadata": {},
   "outputs": [],
   "source": [
    "data[\"price\"] = data.price.str.replace('TL', '')"
   ]
  },
  {
   "cell_type": "code",
   "execution_count": 10,
   "id": "2785794d",
   "metadata": {},
   "outputs": [],
   "source": [
    "data[\"price\"] = data.price.astype(float)"
   ]
  },
  {
   "cell_type": "code",
   "execution_count": 11,
   "id": "c01576d9",
   "metadata": {},
   "outputs": [
    {
     "data": {
      "text/plain": [
       "0       9299.0\n",
       "1      18499.0\n",
       "2      17099.0\n",
       "3      14499.0\n",
       "4      14599.0\n",
       "        ...   \n",
       "729    34999.0\n",
       "730    34999.0\n",
       "731    34999.0\n",
       "732    26999.0\n",
       "733      200.0\n",
       "Name: price, Length: 734, dtype: float64"
      ]
     },
     "execution_count": 11,
     "metadata": {},
     "output_type": "execute_result"
    }
   ],
   "source": [
    "data[\"price\"]"
   ]
  },
  {
   "cell_type": "code",
   "execution_count": 12,
   "id": "ea07f59d",
   "metadata": {},
   "outputs": [
    {
     "data": {
      "text/plain": [
       "Index(['Aşılabilir Engel Seviyesi', 'Haritalandırma', 'Hazne Kapasitesi',\n",
       "       'Uygulama Üzerinden Kontrol', 'Yer Silme Özelliği',\n",
       "       'Çalışma Modu Sayısı', 'Özellik', 'Şarjlı Kullanım Süresi', 'url',\n",
       "       'price'],\n",
       "      dtype='object')"
      ]
     },
     "execution_count": 12,
     "metadata": {},
     "output_type": "execute_result"
    }
   ],
   "source": [
    "data.columns"
   ]
  },
  {
   "cell_type": "code",
   "execution_count": 13,
   "id": "41a0ff95",
   "metadata": {},
   "outputs": [],
   "source": [
    "data=data.rename(columns = {'Aşılabilir Engel Seviyesi':'Asilabilir_Engel_Seviyesi','Garanti Süresi':'Garanti_Suresi','Garanti Tipi':'Garanti_Tipi','Güç (Watt)':'Guc','Haritalandırma':'Haritalandirma','Hazne Kapasitesi':'Hazne_Kapasitesi','Ses Seviyesi':'Ses_Seviyesi','Uygulama Üzerinden Kontrol':'Uygulama_Uzerinden_Kontrol','Yer Silme Özelliği':'Yer_Silme_Ozelligi','Çalışma Modu Sayısı':'Calisma_Modu_Sayisi','Özellik':'Ozellik','Şarjlı Kullanım Süresi':'Sarjli_Kullanim_Suresi'})"
   ]
  },
  {
   "cell_type": "code",
   "execution_count": 14,
   "id": "ce40607c",
   "metadata": {},
   "outputs": [
    {
     "data": {
      "text/plain": [
       "Index(['Asilabilir_Engel_Seviyesi', 'Haritalandirma', 'Hazne_Kapasitesi',\n",
       "       'Uygulama_Uzerinden_Kontrol', 'Yer_Silme_Ozelligi',\n",
       "       'Calisma_Modu_Sayisi', 'Ozellik', 'Sarjli_Kullanim_Suresi', 'url',\n",
       "       'price'],\n",
       "      dtype='object')"
      ]
     },
     "execution_count": 14,
     "metadata": {},
     "output_type": "execute_result"
    }
   ],
   "source": [
    "data.columns"
   ]
  },
  {
   "cell_type": "code",
   "execution_count": 15,
   "id": "1ed61856",
   "metadata": {},
   "outputs": [
    {
     "data": {
      "text/plain": [
       "0      2 cm\n",
       "1       NaN\n",
       "2       NaN\n",
       "3       NaN\n",
       "4      1 cm\n",
       "       ... \n",
       "729    3 cm\n",
       "730    3 cm\n",
       "731    2 cm\n",
       "732    2 cm\n",
       "733    2 cm\n",
       "Name: Asilabilir_Engel_Seviyesi, Length: 734, dtype: object"
      ]
     },
     "execution_count": 15,
     "metadata": {},
     "output_type": "execute_result"
    }
   ],
   "source": [
    "data[\"Asilabilir_Engel_Seviyesi\"]"
   ]
  },
  {
   "cell_type": "code",
   "execution_count": 16,
   "id": "48b4d36a",
   "metadata": {},
   "outputs": [],
   "source": [
    "data[\"Asilabilir_Engel_Seviyesi\"] = data.Asilabilir_Engel_Seviyesi.str.replace('cm', '')"
   ]
  },
  {
   "cell_type": "code",
   "execution_count": 17,
   "id": "e5fac0be",
   "metadata": {},
   "outputs": [
    {
     "data": {
      "text/plain": [
       "0       2 \n",
       "1      NaN\n",
       "2      NaN\n",
       "3      NaN\n",
       "4       1 \n",
       "      ... \n",
       "729     3 \n",
       "730     3 \n",
       "731     2 \n",
       "732     2 \n",
       "733     2 \n",
       "Name: Asilabilir_Engel_Seviyesi, Length: 734, dtype: object"
      ]
     },
     "execution_count": 17,
     "metadata": {},
     "output_type": "execute_result"
    }
   ],
   "source": [
    "data[\"Asilabilir_Engel_Seviyesi\"]"
   ]
  },
  {
   "cell_type": "code",
   "execution_count": 18,
   "id": "ff2965d7",
   "metadata": {},
   "outputs": [],
   "source": [
    "data.Asilabilir_Engel_Seviyesi.fillna(2,inplace=True)"
   ]
  },
  {
   "cell_type": "code",
   "execution_count": 19,
   "id": "8e77e1b9",
   "metadata": {},
   "outputs": [
    {
     "data": {
      "text/plain": [
       "0      2 \n",
       "1       2\n",
       "2       2\n",
       "3       2\n",
       "4      1 \n",
       "       ..\n",
       "729    3 \n",
       "730    3 \n",
       "731    2 \n",
       "732    2 \n",
       "733    2 \n",
       "Name: Asilabilir_Engel_Seviyesi, Length: 734, dtype: object"
      ]
     },
     "execution_count": 19,
     "metadata": {},
     "output_type": "execute_result"
    }
   ],
   "source": [
    "data[\"Asilabilir_Engel_Seviyesi\"]"
   ]
  },
  {
   "cell_type": "code",
   "execution_count": 20,
   "id": "cfbecdb5",
   "metadata": {},
   "outputs": [],
   "source": [
    "data[\"price\"] = data.price.astype(float)"
   ]
  },
  {
   "cell_type": "code",
   "execution_count": 21,
   "id": "71ca721f",
   "metadata": {},
   "outputs": [
    {
     "data": {
      "text/plain": [
       "0      2 \n",
       "1       2\n",
       "2       2\n",
       "3       2\n",
       "4      1 \n",
       "       ..\n",
       "729    3 \n",
       "730    3 \n",
       "731    2 \n",
       "732    2 \n",
       "733    2 \n",
       "Name: Asilabilir_Engel_Seviyesi, Length: 734, dtype: object"
      ]
     },
     "execution_count": 21,
     "metadata": {},
     "output_type": "execute_result"
    }
   ],
   "source": [
    "data[\"Asilabilir_Engel_Seviyesi\"]"
   ]
  },
  {
   "cell_type": "code",
   "execution_count": 22,
   "id": "58d535b9",
   "metadata": {},
   "outputs": [
    {
     "data": {
      "text/html": [
       "<div>\n",
       "<style scoped>\n",
       "    .dataframe tbody tr th:only-of-type {\n",
       "        vertical-align: middle;\n",
       "    }\n",
       "\n",
       "    .dataframe tbody tr th {\n",
       "        vertical-align: top;\n",
       "    }\n",
       "\n",
       "    .dataframe thead th {\n",
       "        text-align: right;\n",
       "    }\n",
       "</style>\n",
       "<table border=\"1\" class=\"dataframe\">\n",
       "  <thead>\n",
       "    <tr style=\"text-align: right;\">\n",
       "      <th></th>\n",
       "      <th>Asilabilir_Engel_Seviyesi</th>\n",
       "      <th>Haritalandirma</th>\n",
       "      <th>Hazne_Kapasitesi</th>\n",
       "      <th>Uygulama_Uzerinden_Kontrol</th>\n",
       "      <th>Yer_Silme_Ozelligi</th>\n",
       "      <th>Calisma_Modu_Sayisi</th>\n",
       "      <th>Ozellik</th>\n",
       "      <th>Sarjli_Kullanim_Suresi</th>\n",
       "      <th>url</th>\n",
       "      <th>price</th>\n",
       "    </tr>\n",
       "  </thead>\n",
       "  <tbody>\n",
       "    <tr>\n",
       "      <th>0</th>\n",
       "      <td>2</td>\n",
       "      <td>Lazer (LIDAR + SLAM)</td>\n",
       "      <td>250-500 L</td>\n",
       "      <td>Var</td>\n",
       "      <td>Var</td>\n",
       "      <td>3+</td>\n",
       "      <td>Robot</td>\n",
       "      <td>60 - 120 dk</td>\n",
       "      <td>https://www.trendyol.com//xiaomi/mi-robot-vaku...</td>\n",
       "      <td>9299.0</td>\n",
       "    </tr>\n",
       "    <tr>\n",
       "      <th>1</th>\n",
       "      <td>2</td>\n",
       "      <td>NaN</td>\n",
       "      <td>NaN</td>\n",
       "      <td>NaN</td>\n",
       "      <td>NaN</td>\n",
       "      <td>NaN</td>\n",
       "      <td>NaN</td>\n",
       "      <td>NaN</td>\n",
       "      <td>https://www.trendyol.com//roborock/s8-sonic-mo...</td>\n",
       "      <td>18499.0</td>\n",
       "    </tr>\n",
       "    <tr>\n",
       "      <th>2</th>\n",
       "      <td>2</td>\n",
       "      <td>NaN</td>\n",
       "      <td>NaN</td>\n",
       "      <td>NaN</td>\n",
       "      <td>NaN</td>\n",
       "      <td>NaN</td>\n",
       "      <td>NaN</td>\n",
       "      <td>NaN</td>\n",
       "      <td>https://www.trendyol.com//roborock/s8-sonic-ro...</td>\n",
       "      <td>17099.0</td>\n",
       "    </tr>\n",
       "    <tr>\n",
       "      <th>3</th>\n",
       "      <td>2</td>\n",
       "      <td>NaN</td>\n",
       "      <td>NaN</td>\n",
       "      <td>NaN</td>\n",
       "      <td>NaN</td>\n",
       "      <td>NaN</td>\n",
       "      <td>NaN</td>\n",
       "      <td>NaN</td>\n",
       "      <td>https://www.trendyol.com//roidmi/eve-plus-akil...</td>\n",
       "      <td>14499.0</td>\n",
       "    </tr>\n",
       "    <tr>\n",
       "      <th>4</th>\n",
       "      <td>1</td>\n",
       "      <td>Lazer (LIDAR + SLAM)</td>\n",
       "      <td>250-500 L</td>\n",
       "      <td>Var</td>\n",
       "      <td>Var</td>\n",
       "      <td>3+</td>\n",
       "      <td>Robot</td>\n",
       "      <td>120 dk ve üzeri</td>\n",
       "      <td>https://www.trendyol.com//roborock/q7-max-beya...</td>\n",
       "      <td>14599.0</td>\n",
       "    </tr>\n",
       "    <tr>\n",
       "      <th>5</th>\n",
       "      <td>2</td>\n",
       "      <td>NaN</td>\n",
       "      <td>250-500 L</td>\n",
       "      <td>NaN</td>\n",
       "      <td>NaN</td>\n",
       "      <td>NaN</td>\n",
       "      <td>NaN</td>\n",
       "      <td>NaN</td>\n",
       "      <td>https://www.trendyol.com//fakir/robert-rs-770-...</td>\n",
       "      <td>10390.0</td>\n",
       "    </tr>\n",
       "    <tr>\n",
       "      <th>6</th>\n",
       "      <td>2</td>\n",
       "      <td>NaN</td>\n",
       "      <td>0-250 L</td>\n",
       "      <td>NaN</td>\n",
       "      <td>NaN</td>\n",
       "      <td>NaN</td>\n",
       "      <td>NaN</td>\n",
       "      <td>NaN</td>\n",
       "      <td>https://www.trendyol.com//philips/3000-serisi-...</td>\n",
       "      <td>11299.0</td>\n",
       "    </tr>\n",
       "    <tr>\n",
       "      <th>7</th>\n",
       "      <td>2</td>\n",
       "      <td>NaN</td>\n",
       "      <td>NaN</td>\n",
       "      <td>NaN</td>\n",
       "      <td>NaN</td>\n",
       "      <td>NaN</td>\n",
       "      <td>NaN</td>\n",
       "      <td>NaN</td>\n",
       "      <td>https://www.trendyol.com//simart-teknoloji/sim...</td>\n",
       "      <td>7999.0</td>\n",
       "    </tr>\n",
       "    <tr>\n",
       "      <th>8</th>\n",
       "      <td>2</td>\n",
       "      <td>Kamera (VSLAM + SLAM)</td>\n",
       "      <td>500-1000 L</td>\n",
       "      <td>Var</td>\n",
       "      <td>Var</td>\n",
       "      <td>3+</td>\n",
       "      <td>Robot</td>\n",
       "      <td>60 - 120 dk</td>\n",
       "      <td>https://www.trendyol.com//xiaomi/mi-robot-vacu...</td>\n",
       "      <td>8470.0</td>\n",
       "    </tr>\n",
       "    <tr>\n",
       "      <th>9</th>\n",
       "      <td>2</td>\n",
       "      <td>NaN</td>\n",
       "      <td>0-250 L</td>\n",
       "      <td>NaN</td>\n",
       "      <td>NaN</td>\n",
       "      <td>NaN</td>\n",
       "      <td>NaN</td>\n",
       "      <td>NaN</td>\n",
       "      <td>https://www.trendyol.com//xiaomi/robot-vacuum-...</td>\n",
       "      <td>11499.0</td>\n",
       "    </tr>\n",
       "  </tbody>\n",
       "</table>\n",
       "</div>"
      ],
      "text/plain": [
       "  Asilabilir_Engel_Seviyesi         Haritalandirma Hazne_Kapasitesi  \\\n",
       "0                        2    Lazer (LIDAR + SLAM)        250-500 L   \n",
       "1                         2                    NaN              NaN   \n",
       "2                         2                    NaN              NaN   \n",
       "3                         2                    NaN              NaN   \n",
       "4                        1    Lazer (LIDAR + SLAM)        250-500 L   \n",
       "5                         2                    NaN        250-500 L   \n",
       "6                         2                    NaN          0-250 L   \n",
       "7                         2                    NaN              NaN   \n",
       "8                        2   Kamera (VSLAM + SLAM)       500-1000 L   \n",
       "9                         2                    NaN          0-250 L   \n",
       "\n",
       "  Uygulama_Uzerinden_Kontrol Yer_Silme_Ozelligi Calisma_Modu_Sayisi Ozellik  \\\n",
       "0                        Var                Var                  3+   Robot   \n",
       "1                        NaN                NaN                 NaN     NaN   \n",
       "2                        NaN                NaN                 NaN     NaN   \n",
       "3                        NaN                NaN                 NaN     NaN   \n",
       "4                        Var                Var                  3+   Robot   \n",
       "5                        NaN                NaN                 NaN     NaN   \n",
       "6                        NaN                NaN                 NaN     NaN   \n",
       "7                        NaN                NaN                 NaN     NaN   \n",
       "8                        Var                Var                  3+   Robot   \n",
       "9                        NaN                NaN                 NaN     NaN   \n",
       "\n",
       "  Sarjli_Kullanim_Suresi                                                url  \\\n",
       "0            60 - 120 dk  https://www.trendyol.com//xiaomi/mi-robot-vaku...   \n",
       "1                    NaN  https://www.trendyol.com//roborock/s8-sonic-mo...   \n",
       "2                    NaN  https://www.trendyol.com//roborock/s8-sonic-ro...   \n",
       "3                    NaN  https://www.trendyol.com//roidmi/eve-plus-akil...   \n",
       "4        120 dk ve üzeri  https://www.trendyol.com//roborock/q7-max-beya...   \n",
       "5                    NaN  https://www.trendyol.com//fakir/robert-rs-770-...   \n",
       "6                    NaN  https://www.trendyol.com//philips/3000-serisi-...   \n",
       "7                    NaN  https://www.trendyol.com//simart-teknoloji/sim...   \n",
       "8            60 - 120 dk  https://www.trendyol.com//xiaomi/mi-robot-vacu...   \n",
       "9                    NaN  https://www.trendyol.com//xiaomi/robot-vacuum-...   \n",
       "\n",
       "     price  \n",
       "0   9299.0  \n",
       "1  18499.0  \n",
       "2  17099.0  \n",
       "3  14499.0  \n",
       "4  14599.0  \n",
       "5  10390.0  \n",
       "6  11299.0  \n",
       "7   7999.0  \n",
       "8   8470.0  \n",
       "9  11499.0  "
      ]
     },
     "execution_count": 22,
     "metadata": {},
     "output_type": "execute_result"
    }
   ],
   "source": [
    "data.head(10)"
   ]
  },
  {
   "cell_type": "code",
   "execution_count": 23,
   "id": "b29f49d9",
   "metadata": {},
   "outputs": [
    {
     "data": {
      "text/plain": [
       "0        Lazer (LIDAR + SLAM)\n",
       "1                         NaN\n",
       "2                         NaN\n",
       "3                         NaN\n",
       "4        Lazer (LIDAR + SLAM)\n",
       "                ...          \n",
       "729    Jiroskop (SLAM /ESLAM)\n",
       "730    Jiroskop (SLAM /ESLAM)\n",
       "731      Lazer (LIDAR + SLAM)\n",
       "732      Lazer (LIDAR + SLAM)\n",
       "733      Lazer (LIDAR + SLAM)\n",
       "Name: Haritalandirma, Length: 734, dtype: object"
      ]
     },
     "execution_count": 23,
     "metadata": {},
     "output_type": "execute_result"
    }
   ],
   "source": [
    "data[\"Haritalandirma\"]"
   ]
  },
  {
   "cell_type": "code",
   "execution_count": 24,
   "id": "a3feb385",
   "metadata": {},
   "outputs": [],
   "source": [
    "data[\"Haritalandirma\"] = data.Haritalandirma.str.replace('(LIDAR + SLAM)', '')\n",
    "data[\"Haritalandirma\"] = data.Haritalandirma.str.replace('(SLAM /ESLAM)', '')\n",
    "data[\"Haritalandirma\"] = data.Haritalandirma.str.replace('(VSLAM + SLAM)', '')"
   ]
  },
  {
   "cell_type": "code",
   "execution_count": 25,
   "id": "6b9fcc0e",
   "metadata": {},
   "outputs": [
    {
     "data": {
      "text/plain": [
       "0         Lazer \n",
       "1            NaN\n",
       "2            NaN\n",
       "3            NaN\n",
       "4         Lazer \n",
       "         ...    \n",
       "729    Jiroskop \n",
       "730    Jiroskop \n",
       "731       Lazer \n",
       "732       Lazer \n",
       "733       Lazer \n",
       "Name: Haritalandirma, Length: 734, dtype: object"
      ]
     },
     "execution_count": 25,
     "metadata": {},
     "output_type": "execute_result"
    }
   ],
   "source": [
    "data[\"Haritalandirma\"]"
   ]
  },
  {
   "cell_type": "code",
   "execution_count": 26,
   "id": "7fa1aaf3",
   "metadata": {},
   "outputs": [
    {
     "data": {
      "image/png": "[encoded data removed]",
      "text/plain": [
       "<Figure size 1600x1600 with 1 Axes>"
      ]
     },
     "metadata": {},
     "output_type": "display_data"
    }
   ],
   "source": [
    "plt.figure(figsize=(16,16))\n",
    "plt.subplot(2,1,1)\n",
    "sns.countplot(x='Haritalandirma',data = data,order = data['Haritalandirma'].value_counts().index)\n",
    "plt.xticks(rotation = 90)\n",
    "plt.show()"
   ]
  },
  {
   "cell_type": "code",
   "execution_count": 27,
   "id": "a13622df",
   "metadata": {},
   "outputs": [],
   "source": [
    "data.Haritalandirma.fillna('Lazer',inplace=True)"
   ]
  },
  {
   "cell_type": "code",
   "execution_count": 28,
   "id": "669e512c",
   "metadata": {},
   "outputs": [
    {
     "data": {
      "text/plain": [
       "0      250-500 L\n",
       "1            NaN\n",
       "2            NaN\n",
       "3            NaN\n",
       "4      250-500 L\n",
       "         ...    \n",
       "729      0-250 L\n",
       "730      0-250 L\n",
       "731    250-500 L\n",
       "732    250-500 L\n",
       "733    250-500 L\n",
       "Name: Hazne_Kapasitesi, Length: 734, dtype: object"
      ]
     },
     "execution_count": 28,
     "metadata": {},
     "output_type": "execute_result"
    }
   ],
   "source": [
    "data[\"Hazne_Kapasitesi\"]"
   ]
  },
  {
   "cell_type": "code",
   "execution_count": 29,
   "id": "4ab828e0",
   "metadata": {},
   "outputs": [],
   "source": [
    "data[\"Hazne_Kapasitesi\"] = data.Hazne_Kapasitesi.str.replace(' L', '')\n"
   ]
  },
  {
   "cell_type": "code",
   "execution_count": 30,
   "id": "c7ed640d",
   "metadata": {},
   "outputs": [],
   "source": [
    "data.Hazne_Kapasitesi.fillna('250-500',inplace=True)"
   ]
  },
  {
   "cell_type": "code",
   "execution_count": 31,
   "id": "7486c578",
   "metadata": {},
   "outputs": [
    {
     "data": {
      "text/plain": [
       "0      Var\n",
       "1      NaN\n",
       "2      NaN\n",
       "3      NaN\n",
       "4      Var\n",
       "      ... \n",
       "729    Var\n",
       "730    Var\n",
       "731    Var\n",
       "732    Var\n",
       "733    Var\n",
       "Name: Uygulama_Uzerinden_Kontrol, Length: 734, dtype: object"
      ]
     },
     "execution_count": 31,
     "metadata": {},
     "output_type": "execute_result"
    }
   ],
   "source": [
    "data[\"Uygulama_Uzerinden_Kontrol\"]"
   ]
  },
  {
   "cell_type": "code",
   "execution_count": 32,
   "id": "4e53d425",
   "metadata": {},
   "outputs": [],
   "source": [
    "data.Uygulama_Uzerinden_Kontrol.fillna('Var',inplace=True)"
   ]
  },
  {
   "cell_type": "code",
   "execution_count": 33,
   "id": "ba09f50e",
   "metadata": {},
   "outputs": [
    {
     "data": {
      "text/plain": [
       "0      Var\n",
       "1      NaN\n",
       "2      NaN\n",
       "3      NaN\n",
       "4      Var\n",
       "      ... \n",
       "729    Var\n",
       "730    Var\n",
       "731    Var\n",
       "732    Var\n",
       "733    Var\n",
       "Name: Yer_Silme_Ozelligi, Length: 734, dtype: object"
      ]
     },
     "execution_count": 33,
     "metadata": {},
     "output_type": "execute_result"
    }
   ],
   "source": [
    "data[\"Yer_Silme_Ozelligi\"]"
   ]
  },
  {
   "cell_type": "code",
   "execution_count": 34,
   "id": "5cdff45b",
   "metadata": {},
   "outputs": [],
   "source": [
    "data.Yer_Silme_Ozelligi.fillna('Var',inplace=True)"
   ]
  },
  {
   "cell_type": "code",
   "execution_count": 35,
   "id": "ea1eafb3",
   "metadata": {},
   "outputs": [
    {
     "data": {
      "text/plain": [
       "0       3+\n",
       "1      NaN\n",
       "2      NaN\n",
       "3      NaN\n",
       "4       3+\n",
       "      ... \n",
       "729      2\n",
       "730      2\n",
       "731    NaN\n",
       "732     3+\n",
       "733     3+\n",
       "Name: Calisma_Modu_Sayisi, Length: 734, dtype: object"
      ]
     },
     "execution_count": 35,
     "metadata": {},
     "output_type": "execute_result"
    }
   ],
   "source": [
    "data[\"Calisma_Modu_Sayisi\"]"
   ]
  },
  {
   "cell_type": "code",
   "execution_count": 36,
   "id": "7ef995eb",
   "metadata": {},
   "outputs": [],
   "source": [
    "data.Calisma_Modu_Sayisi.fillna('3+',inplace=True)"
   ]
  },
  {
   "cell_type": "code",
   "execution_count": 37,
   "id": "2312dc17",
   "metadata": {},
   "outputs": [
    {
     "data": {
      "text/plain": [
       "0            Robot\n",
       "1              NaN\n",
       "2              NaN\n",
       "3              NaN\n",
       "4            Robot\n",
       "          ...     \n",
       "729          Robot\n",
       "730          Robot\n",
       "731          Robot\n",
       "732          Robot\n",
       "733    Toz Torbalı\n",
       "Name: Ozellik, Length: 734, dtype: object"
      ]
     },
     "execution_count": 37,
     "metadata": {},
     "output_type": "execute_result"
    }
   ],
   "source": [
    "data[\"Ozellik\"]"
   ]
  },
  {
   "cell_type": "code",
   "execution_count": 38,
   "id": "c17751c9",
   "metadata": {},
   "outputs": [],
   "source": [
    "\n",
    "\n",
    "\n",
    "data.Ozellik.fillna('Robot',inplace=True)"
   ]
  },
  {
   "cell_type": "code",
   "execution_count": 39,
   "id": "50bbf8c8",
   "metadata": {},
   "outputs": [
    {
     "data": {
      "text/plain": [
       "0          60 - 120 dk\n",
       "1                  NaN\n",
       "2                  NaN\n",
       "3                  NaN\n",
       "4      120 dk ve üzeri\n",
       "            ...       \n",
       "729         30 - 60 dk\n",
       "730         30 - 60 dk\n",
       "731    120 dk ve üzeri\n",
       "732    120 dk ve üzeri\n",
       "733    120 dk ve üzeri\n",
       "Name: Sarjli_Kullanim_Suresi, Length: 734, dtype: object"
      ]
     },
     "execution_count": 39,
     "metadata": {},
     "output_type": "execute_result"
    }
   ],
   "source": [
    "data[\"Sarjli_Kullanim_Suresi\"]"
   ]
  },
  {
   "cell_type": "code",
   "execution_count": 40,
   "id": "2f11dfad",
   "metadata": {},
   "outputs": [],
   "source": [
    "data[\"Sarjli_Kullanim_Suresi\"] = data.Sarjli_Kullanim_Suresi.str.replace(' dk', '')\n",
    "data[\"Sarjli_Kullanim_Suresi\"] = data.Sarjli_Kullanim_Suresi.str.replace(' ve üzeri', '')"
   ]
  },
  {
   "cell_type": "code",
   "execution_count": 41,
   "id": "1a7ffa3e",
   "metadata": {},
   "outputs": [
    {
     "data": {
      "text/plain": [
       "0      60 - 120\n",
       "1           NaN\n",
       "2           NaN\n",
       "3           NaN\n",
       "4           120\n",
       "         ...   \n",
       "729     30 - 60\n",
       "730     30 - 60\n",
       "731         120\n",
       "732         120\n",
       "733         120\n",
       "Name: Sarjli_Kullanim_Suresi, Length: 734, dtype: object"
      ]
     },
     "execution_count": 41,
     "metadata": {},
     "output_type": "execute_result"
    }
   ],
   "source": [
    "data[\"Sarjli_Kullanim_Suresi\"]"
   ]
  },
  {
   "cell_type": "code",
   "execution_count": 42,
   "id": "e310d2ed",
   "metadata": {},
   "outputs": [],
   "source": [
    "data.Sarjli_Kullanim_Suresi.fillna('120',inplace=True)"
   ]
  },
  {
   "cell_type": "code",
   "execution_count": 43,
   "id": "6e982d05",
   "metadata": {},
   "outputs": [
    {
     "data": {
      "text/plain": [
       "0      60 - 120\n",
       "1           120\n",
       "2           120\n",
       "3           120\n",
       "4           120\n",
       "         ...   \n",
       "729     30 - 60\n",
       "730     30 - 60\n",
       "731         120\n",
       "732         120\n",
       "733         120\n",
       "Name: Sarjli_Kullanim_Suresi, Length: 734, dtype: object"
      ]
     },
     "execution_count": 43,
     "metadata": {},
     "output_type": "execute_result"
    }
   ],
   "source": [
    "data[\"Sarjli_Kullanim_Suresi\"]"
   ]
  },
  {
   "cell_type": "code",
   "execution_count": 44,
   "id": "84a8324d",
   "metadata": {},
   "outputs": [
    {
     "data": {
      "text/html": [
       "<div>\n",
       "<style scoped>\n",
       "    .dataframe tbody tr th:only-of-type {\n",
       "        vertical-align: middle;\n",
       "    }\n",
       "\n",
       "    .dataframe tbody tr th {\n",
       "        vertical-align: top;\n",
       "    }\n",
       "\n",
       "    .dataframe thead th {\n",
       "        text-align: right;\n",
       "    }\n",
       "</style>\n",
       "<table border=\"1\" class=\"dataframe\">\n",
       "  <thead>\n",
       "    <tr style=\"text-align: right;\">\n",
       "      <th></th>\n",
       "      <th>Asilabilir_Engel_Seviyesi</th>\n",
       "      <th>Haritalandirma</th>\n",
       "      <th>Hazne_Kapasitesi</th>\n",
       "      <th>Uygulama_Uzerinden_Kontrol</th>\n",
       "      <th>Yer_Silme_Ozelligi</th>\n",
       "      <th>Calisma_Modu_Sayisi</th>\n",
       "      <th>Ozellik</th>\n",
       "      <th>Sarjli_Kullanim_Suresi</th>\n",
       "      <th>url</th>\n",
       "      <th>price</th>\n",
       "    </tr>\n",
       "  </thead>\n",
       "  <tbody>\n",
       "    <tr>\n",
       "      <th>0</th>\n",
       "      <td>2</td>\n",
       "      <td>Lazer</td>\n",
       "      <td>250-500</td>\n",
       "      <td>Var</td>\n",
       "      <td>Var</td>\n",
       "      <td>3+</td>\n",
       "      <td>Robot</td>\n",
       "      <td>60 - 120</td>\n",
       "      <td>https://www.trendyol.com//xiaomi/mi-robot-vaku...</td>\n",
       "      <td>9299.0</td>\n",
       "    </tr>\n",
       "    <tr>\n",
       "      <th>1</th>\n",
       "      <td>2</td>\n",
       "      <td>Lazer</td>\n",
       "      <td>250-500</td>\n",
       "      <td>Var</td>\n",
       "      <td>Var</td>\n",
       "      <td>3+</td>\n",
       "      <td>Robot</td>\n",
       "      <td>120</td>\n",
       "      <td>https://www.trendyol.com//roborock/s8-sonic-mo...</td>\n",
       "      <td>18499.0</td>\n",
       "    </tr>\n",
       "    <tr>\n",
       "      <th>2</th>\n",
       "      <td>2</td>\n",
       "      <td>Lazer</td>\n",
       "      <td>250-500</td>\n",
       "      <td>Var</td>\n",
       "      <td>Var</td>\n",
       "      <td>3+</td>\n",
       "      <td>Robot</td>\n",
       "      <td>120</td>\n",
       "      <td>https://www.trendyol.com//roborock/s8-sonic-ro...</td>\n",
       "      <td>17099.0</td>\n",
       "    </tr>\n",
       "    <tr>\n",
       "      <th>3</th>\n",
       "      <td>2</td>\n",
       "      <td>Lazer</td>\n",
       "      <td>250-500</td>\n",
       "      <td>Var</td>\n",
       "      <td>Var</td>\n",
       "      <td>3+</td>\n",
       "      <td>Robot</td>\n",
       "      <td>120</td>\n",
       "      <td>https://www.trendyol.com//roidmi/eve-plus-akil...</td>\n",
       "      <td>14499.0</td>\n",
       "    </tr>\n",
       "    <tr>\n",
       "      <th>4</th>\n",
       "      <td>1</td>\n",
       "      <td>Lazer</td>\n",
       "      <td>250-500</td>\n",
       "      <td>Var</td>\n",
       "      <td>Var</td>\n",
       "      <td>3+</td>\n",
       "      <td>Robot</td>\n",
       "      <td>120</td>\n",
       "      <td>https://www.trendyol.com//roborock/q7-max-beya...</td>\n",
       "      <td>14599.0</td>\n",
       "    </tr>\n",
       "    <tr>\n",
       "      <th>5</th>\n",
       "      <td>2</td>\n",
       "      <td>Lazer</td>\n",
       "      <td>250-500</td>\n",
       "      <td>Var</td>\n",
       "      <td>Var</td>\n",
       "      <td>3+</td>\n",
       "      <td>Robot</td>\n",
       "      <td>120</td>\n",
       "      <td>https://www.trendyol.com//fakir/robert-rs-770-...</td>\n",
       "      <td>10390.0</td>\n",
       "    </tr>\n",
       "    <tr>\n",
       "      <th>6</th>\n",
       "      <td>2</td>\n",
       "      <td>Lazer</td>\n",
       "      <td>0-250</td>\n",
       "      <td>Var</td>\n",
       "      <td>Var</td>\n",
       "      <td>3+</td>\n",
       "      <td>Robot</td>\n",
       "      <td>120</td>\n",
       "      <td>https://www.trendyol.com//philips/3000-serisi-...</td>\n",
       "      <td>11299.0</td>\n",
       "    </tr>\n",
       "    <tr>\n",
       "      <th>7</th>\n",
       "      <td>2</td>\n",
       "      <td>Lazer</td>\n",
       "      <td>250-500</td>\n",
       "      <td>Var</td>\n",
       "      <td>Var</td>\n",
       "      <td>3+</td>\n",
       "      <td>Robot</td>\n",
       "      <td>120</td>\n",
       "      <td>https://www.trendyol.com//simart-teknoloji/sim...</td>\n",
       "      <td>7999.0</td>\n",
       "    </tr>\n",
       "    <tr>\n",
       "      <th>8</th>\n",
       "      <td>2</td>\n",
       "      <td>Kamera</td>\n",
       "      <td>500-1000</td>\n",
       "      <td>Var</td>\n",
       "      <td>Var</td>\n",
       "      <td>3+</td>\n",
       "      <td>Robot</td>\n",
       "      <td>60 - 120</td>\n",
       "      <td>https://www.trendyol.com//xiaomi/mi-robot-vacu...</td>\n",
       "      <td>8470.0</td>\n",
       "    </tr>\n",
       "    <tr>\n",
       "      <th>9</th>\n",
       "      <td>2</td>\n",
       "      <td>Lazer</td>\n",
       "      <td>0-250</td>\n",
       "      <td>Var</td>\n",
       "      <td>Var</td>\n",
       "      <td>3+</td>\n",
       "      <td>Robot</td>\n",
       "      <td>120</td>\n",
       "      <td>https://www.trendyol.com//xiaomi/robot-vacuum-...</td>\n",
       "      <td>11499.0</td>\n",
       "    </tr>\n",
       "  </tbody>\n",
       "</table>\n",
       "</div>"
      ],
      "text/plain": [
       "  Asilabilir_Engel_Seviyesi Haritalandirma Hazne_Kapasitesi  \\\n",
       "0                        2          Lazer           250-500   \n",
       "1                         2          Lazer          250-500   \n",
       "2                         2          Lazer          250-500   \n",
       "3                         2          Lazer          250-500   \n",
       "4                        1          Lazer           250-500   \n",
       "5                         2          Lazer          250-500   \n",
       "6                         2          Lazer            0-250   \n",
       "7                         2          Lazer          250-500   \n",
       "8                        2         Kamera          500-1000   \n",
       "9                         2          Lazer            0-250   \n",
       "\n",
       "  Uygulama_Uzerinden_Kontrol Yer_Silme_Ozelligi Calisma_Modu_Sayisi Ozellik  \\\n",
       "0                        Var                Var                  3+   Robot   \n",
       "1                        Var                Var                  3+   Robot   \n",
       "2                        Var                Var                  3+   Robot   \n",
       "3                        Var                Var                  3+   Robot   \n",
       "4                        Var                Var                  3+   Robot   \n",
       "5                        Var                Var                  3+   Robot   \n",
       "6                        Var                Var                  3+   Robot   \n",
       "7                        Var                Var                  3+   Robot   \n",
       "8                        Var                Var                  3+   Robot   \n",
       "9                        Var                Var                  3+   Robot   \n",
       "\n",
       "  Sarjli_Kullanim_Suresi                                                url  \\\n",
       "0               60 - 120  https://www.trendyol.com//xiaomi/mi-robot-vaku...   \n",
       "1                    120  https://www.trendyol.com//roborock/s8-sonic-mo...   \n",
       "2                    120  https://www.trendyol.com//roborock/s8-sonic-ro...   \n",
       "3                    120  https://www.trendyol.com//roidmi/eve-plus-akil...   \n",
       "4                    120  https://www.trendyol.com//roborock/q7-max-beya...   \n",
       "5                    120  https://www.trendyol.com//fakir/robert-rs-770-...   \n",
       "6                    120  https://www.trendyol.com//philips/3000-serisi-...   \n",
       "7                    120  https://www.trendyol.com//simart-teknoloji/sim...   \n",
       "8               60 - 120  https://www.trendyol.com//xiaomi/mi-robot-vacu...   \n",
       "9                    120  https://www.trendyol.com//xiaomi/robot-vacuum-...   \n",
       "\n",
       "     price  \n",
       "0   9299.0  \n",
       "1  18499.0  \n",
       "2  17099.0  \n",
       "3  14499.0  \n",
       "4  14599.0  \n",
       "5  10390.0  \n",
       "6  11299.0  \n",
       "7   7999.0  \n",
       "8   8470.0  \n",
       "9  11499.0  "
      ]
     },
     "execution_count": 44,
     "metadata": {},
     "output_type": "execute_result"
    }
   ],
   "source": [
    "data.head(10)"
   ]
  },
  {
   "cell_type": "code",
   "execution_count": 45,
   "id": "a5824dd9",
   "metadata": {},
   "outputs": [
    {
     "data": {
      "text/plain": [
       "0      3+\n",
       "1      3+\n",
       "2      3+\n",
       "3      3+\n",
       "4      3+\n",
       "       ..\n",
       "729     2\n",
       "730     2\n",
       "731    3+\n",
       "732    3+\n",
       "733    3+\n",
       "Name: Calisma_Modu_Sayisi, Length: 734, dtype: object"
      ]
     },
     "execution_count": 45,
     "metadata": {},
     "output_type": "execute_result"
    }
   ],
   "source": [
    "data[\"Calisma_Modu_Sayisi\"]"
   ]
  },
  {
   "cell_type": "code",
   "execution_count": 46,
   "id": "cf021fcd",
   "metadata": {},
   "outputs": [],
   "source": [
    "data[\"Calisma_Modu_Sayisi\"] = data.Calisma_Modu_Sayisi.str.replace('+', '')"
   ]
  },
  {
   "cell_type": "code",
   "execution_count": 47,
   "id": "0285139a",
   "metadata": {
    "scrolled": true
   },
   "outputs": [
    {
     "data": {
      "text/plain": [
       "0      3\n",
       "1      3\n",
       "2      3\n",
       "3      3\n",
       "4      3\n",
       "      ..\n",
       "729    2\n",
       "730    2\n",
       "731    3\n",
       "732    3\n",
       "733    3\n",
       "Name: Calisma_Modu_Sayisi, Length: 734, dtype: object"
      ]
     },
     "execution_count": 47,
     "metadata": {},
     "output_type": "execute_result"
    }
   ],
   "source": [
    "data[\"Calisma_Modu_Sayisi\"]"
   ]
  },
  {
   "cell_type": "code",
   "execution_count": 48,
   "id": "c9b577b8",
   "metadata": {},
   "outputs": [
    {
     "data": {
      "text/html": [
       "<div>\n",
       "<style scoped>\n",
       "    .dataframe tbody tr th:only-of-type {\n",
       "        vertical-align: middle;\n",
       "    }\n",
       "\n",
       "    .dataframe tbody tr th {\n",
       "        vertical-align: top;\n",
       "    }\n",
       "\n",
       "    .dataframe thead th {\n",
       "        text-align: right;\n",
       "    }\n",
       "</style>\n",
       "<table border=\"1\" class=\"dataframe\">\n",
       "  <thead>\n",
       "    <tr style=\"text-align: right;\">\n",
       "      <th></th>\n",
       "      <th>Asilabilir_Engel_Seviyesi</th>\n",
       "      <th>Haritalandirma</th>\n",
       "      <th>Hazne_Kapasitesi</th>\n",
       "      <th>Uygulama_Uzerinden_Kontrol</th>\n",
       "      <th>Yer_Silme_Ozelligi</th>\n",
       "      <th>Calisma_Modu_Sayisi</th>\n",
       "      <th>Ozellik</th>\n",
       "      <th>Sarjli_Kullanim_Suresi</th>\n",
       "      <th>url</th>\n",
       "      <th>price</th>\n",
       "    </tr>\n",
       "  </thead>\n",
       "  <tbody>\n",
       "    <tr>\n",
       "      <th>0</th>\n",
       "      <td>2</td>\n",
       "      <td>Lazer</td>\n",
       "      <td>250-500</td>\n",
       "      <td>Var</td>\n",
       "      <td>Var</td>\n",
       "      <td>3</td>\n",
       "      <td>Robot</td>\n",
       "      <td>60 - 120</td>\n",
       "      <td>https://www.trendyol.com//xiaomi/mi-robot-vaku...</td>\n",
       "      <td>9299.0</td>\n",
       "    </tr>\n",
       "    <tr>\n",
       "      <th>1</th>\n",
       "      <td>2</td>\n",
       "      <td>Lazer</td>\n",
       "      <td>250-500</td>\n",
       "      <td>Var</td>\n",
       "      <td>Var</td>\n",
       "      <td>3</td>\n",
       "      <td>Robot</td>\n",
       "      <td>120</td>\n",
       "      <td>https://www.trendyol.com//roborock/s8-sonic-mo...</td>\n",
       "      <td>18499.0</td>\n",
       "    </tr>\n",
       "    <tr>\n",
       "      <th>2</th>\n",
       "      <td>2</td>\n",
       "      <td>Lazer</td>\n",
       "      <td>250-500</td>\n",
       "      <td>Var</td>\n",
       "      <td>Var</td>\n",
       "      <td>3</td>\n",
       "      <td>Robot</td>\n",
       "      <td>120</td>\n",
       "      <td>https://www.trendyol.com//roborock/s8-sonic-ro...</td>\n",
       "      <td>17099.0</td>\n",
       "    </tr>\n",
       "    <tr>\n",
       "      <th>3</th>\n",
       "      <td>2</td>\n",
       "      <td>Lazer</td>\n",
       "      <td>250-500</td>\n",
       "      <td>Var</td>\n",
       "      <td>Var</td>\n",
       "      <td>3</td>\n",
       "      <td>Robot</td>\n",
       "      <td>120</td>\n",
       "      <td>https://www.trendyol.com//roidmi/eve-plus-akil...</td>\n",
       "      <td>14499.0</td>\n",
       "    </tr>\n",
       "    <tr>\n",
       "      <th>4</th>\n",
       "      <td>1</td>\n",
       "      <td>Lazer</td>\n",
       "      <td>250-500</td>\n",
       "      <td>Var</td>\n",
       "      <td>Var</td>\n",
       "      <td>3</td>\n",
       "      <td>Robot</td>\n",
       "      <td>120</td>\n",
       "      <td>https://www.trendyol.com//roborock/q7-max-beya...</td>\n",
       "      <td>14599.0</td>\n",
       "    </tr>\n",
       "    <tr>\n",
       "      <th>5</th>\n",
       "      <td>2</td>\n",
       "      <td>Lazer</td>\n",
       "      <td>250-500</td>\n",
       "      <td>Var</td>\n",
       "      <td>Var</td>\n",
       "      <td>3</td>\n",
       "      <td>Robot</td>\n",
       "      <td>120</td>\n",
       "      <td>https://www.trendyol.com//fakir/robert-rs-770-...</td>\n",
       "      <td>10390.0</td>\n",
       "    </tr>\n",
       "    <tr>\n",
       "      <th>6</th>\n",
       "      <td>2</td>\n",
       "      <td>Lazer</td>\n",
       "      <td>0-250</td>\n",
       "      <td>Var</td>\n",
       "      <td>Var</td>\n",
       "      <td>3</td>\n",
       "      <td>Robot</td>\n",
       "      <td>120</td>\n",
       "      <td>https://www.trendyol.com//philips/3000-serisi-...</td>\n",
       "      <td>11299.0</td>\n",
       "    </tr>\n",
       "    <tr>\n",
       "      <th>7</th>\n",
       "      <td>2</td>\n",
       "      <td>Lazer</td>\n",
       "      <td>250-500</td>\n",
       "      <td>Var</td>\n",
       "      <td>Var</td>\n",
       "      <td>3</td>\n",
       "      <td>Robot</td>\n",
       "      <td>120</td>\n",
       "      <td>https://www.trendyol.com//simart-teknoloji/sim...</td>\n",
       "      <td>7999.0</td>\n",
       "    </tr>\n",
       "    <tr>\n",
       "      <th>8</th>\n",
       "      <td>2</td>\n",
       "      <td>Kamera</td>\n",
       "      <td>500-1000</td>\n",
       "      <td>Var</td>\n",
       "      <td>Var</td>\n",
       "      <td>3</td>\n",
       "      <td>Robot</td>\n",
       "      <td>60 - 120</td>\n",
       "      <td>https://www.trendyol.com//xiaomi/mi-robot-vacu...</td>\n",
       "      <td>8470.0</td>\n",
       "    </tr>\n",
       "    <tr>\n",
       "      <th>9</th>\n",
       "      <td>2</td>\n",
       "      <td>Lazer</td>\n",
       "      <td>0-250</td>\n",
       "      <td>Var</td>\n",
       "      <td>Var</td>\n",
       "      <td>3</td>\n",
       "      <td>Robot</td>\n",
       "      <td>120</td>\n",
       "      <td>https://www.trendyol.com//xiaomi/robot-vacuum-...</td>\n",
       "      <td>11499.0</td>\n",
       "    </tr>\n",
       "  </tbody>\n",
       "</table>\n",
       "</div>"
      ],
      "text/plain": [
       "  Asilabilir_Engel_Seviyesi Haritalandirma Hazne_Kapasitesi  \\\n",
       "0                        2          Lazer           250-500   \n",
       "1                         2          Lazer          250-500   \n",
       "2                         2          Lazer          250-500   \n",
       "3                         2          Lazer          250-500   \n",
       "4                        1          Lazer           250-500   \n",
       "5                         2          Lazer          250-500   \n",
       "6                         2          Lazer            0-250   \n",
       "7                         2          Lazer          250-500   \n",
       "8                        2         Kamera          500-1000   \n",
       "9                         2          Lazer            0-250   \n",
       "\n",
       "  Uygulama_Uzerinden_Kontrol Yer_Silme_Ozelligi Calisma_Modu_Sayisi Ozellik  \\\n",
       "0                        Var                Var                   3   Robot   \n",
       "1                        Var                Var                   3   Robot   \n",
       "2                        Var                Var                   3   Robot   \n",
       "3                        Var                Var                   3   Robot   \n",
       "4                        Var                Var                   3   Robot   \n",
       "5                        Var                Var                   3   Robot   \n",
       "6                        Var                Var                   3   Robot   \n",
       "7                        Var                Var                   3   Robot   \n",
       "8                        Var                Var                   3   Robot   \n",
       "9                        Var                Var                   3   Robot   \n",
       "\n",
       "  Sarjli_Kullanim_Suresi                                                url  \\\n",
       "0               60 - 120  https://www.trendyol.com//xiaomi/mi-robot-vaku...   \n",
       "1                    120  https://www.trendyol.com//roborock/s8-sonic-mo...   \n",
       "2                    120  https://www.trendyol.com//roborock/s8-sonic-ro...   \n",
       "3                    120  https://www.trendyol.com//roidmi/eve-plus-akil...   \n",
       "4                    120  https://www.trendyol.com//roborock/q7-max-beya...   \n",
       "5                    120  https://www.trendyol.com//fakir/robert-rs-770-...   \n",
       "6                    120  https://www.trendyol.com//philips/3000-serisi-...   \n",
       "7                    120  https://www.trendyol.com//simart-teknoloji/sim...   \n",
       "8               60 - 120  https://www.trendyol.com//xiaomi/mi-robot-vacu...   \n",
       "9                    120  https://www.trendyol.com//xiaomi/robot-vacuum-...   \n",
       "\n",
       "     price  \n",
       "0   9299.0  \n",
       "1  18499.0  \n",
       "2  17099.0  \n",
       "3  14499.0  \n",
       "4  14599.0  \n",
       "5  10390.0  \n",
       "6  11299.0  \n",
       "7   7999.0  \n",
       "8   8470.0  \n",
       "9  11499.0  "
      ]
     },
     "execution_count": 48,
     "metadata": {},
     "output_type": "execute_result"
    }
   ],
   "source": [
    "data.head(10)"
   ]
  },
  {
   "cell_type": "code",
   "execution_count": 174,
   "id": "9515c5c5",
   "metadata": {},
   "outputs": [],
   "source": [
    "#Data frame'i csv formatına çevirip kaydetme\n",
    "data.to_csv(\"robot_supurge_trendyol_data_EDA.csv\",index=False)"
   ]
  },
  {
   "cell_type": "code",
   "execution_count": 175,
   "id": "8afccac9",
   "metadata": {},
   "outputs": [],
   "source": [
    "data[\"Asilabilir_Engel_Seviyesi\"] = data.Asilabilir_Engel_Seviyesi.str.replace('+', '')"
   ]
  },
  {
   "cell_type": "code",
   "execution_count": 176,
   "id": "65bc43e4",
   "metadata": {},
   "outputs": [],
   "source": [
    "data[\"Hazne_Kapasitesi\"] = data.Hazne_Kapasitesi.str.replace('+', '')"
   ]
  },
  {
   "cell_type": "code",
   "execution_count": 181,
   "id": "dffc9979",
   "metadata": {},
   "outputs": [],
   "source": [
    "data[\"Asilabilir_Engel_Seviyesi\"] = data[\"Asilabilir_Engel_Seviyesi\"].astype(float)\n",
    "data[\"Calisma_Modu_Sayisi\"] = data[\"Calisma_Modu_Sayisi\"].astype(float)\n",
    "\n"
   ]
  },
  {
   "cell_type": "code",
   "execution_count": 182,
   "id": "da190a44",
   "metadata": {},
   "outputs": [],
   "source": [
    "data.Asilabilir_Engel_Seviyesi.fillna(2,inplace=True)"
   ]
  },
  {
   "cell_type": "code",
   "execution_count": 183,
   "id": "3adb11bf",
   "metadata": {},
   "outputs": [],
   "source": [
    "data.Haritalandirma.fillna('Lazer',inplace=True)"
   ]
  },
  {
   "cell_type": "code",
   "execution_count": 184,
   "id": "34d66cf2",
   "metadata": {},
   "outputs": [],
   "source": [
    "data.Hazne_Kapasitesi.fillna('250-500',inplace=True)"
   ]
  },
  {
   "cell_type": "code",
   "execution_count": 185,
   "id": "b750a32e",
   "metadata": {},
   "outputs": [],
   "source": [
    "data.Uygulama_Uzerinden_Kontrol.fillna('Var',inplace=True)"
   ]
  },
  {
   "cell_type": "code",
   "execution_count": 186,
   "id": "8179becb",
   "metadata": {},
   "outputs": [],
   "source": [
    "data.Yer_Silme_Ozelligi.fillna('Var',inplace=True)"
   ]
  },
  {
   "cell_type": "code",
   "execution_count": 187,
   "id": "76463485",
   "metadata": {},
   "outputs": [],
   "source": [
    "data.Calisma_Modu_Sayisi.fillna('3',inplace=True)"
   ]
  },
  {
   "cell_type": "code",
   "execution_count": 188,
   "id": "4d628786",
   "metadata": {},
   "outputs": [],
   "source": [
    "data.Ozellik.fillna('Robot',inplace=True)"
   ]
  },
  {
   "cell_type": "code",
   "execution_count": 189,
   "id": "2b4f5ff5",
   "metadata": {},
   "outputs": [],
   "source": [
    "data.Sarjli_Kullanim_Suresi.fillna('120',inplace=True)"
   ]
  },
  {
   "cell_type": "code",
   "execution_count": 191,
   "id": "46a8fa1d",
   "metadata": {},
   "outputs": [
    {
     "name": "stdout",
     "output_type": "stream",
     "text": [
      "Max Fiyat: 692382.0 TL --> https://www.trendyol.com//makita/drc200z-ticari-tip-robot-supurge-akulu-robot-zemin-supurgesi-aku-dahil-degildir-p-332648240?boutiqueId=61&merchantId=420435\n",
      "Max Aşılabilir Engel Seviyesi: 4.0 cm --> https://www.trendyol.com//dreame/bot-l10s-pro-robot-supurge-p-639417973?boutiqueId=61&merchantId=593584&advertItems=eyJhZHZlcnRJZCI6ImZhYmI3MzY1LWEwYTQtNDI1OC05ZmQ4LTgwNTlhNWZmYzNhZiIsInNvcnRpbmdTY29yZSI6MC4wMjMwMjU3NTI1Mjk1MDE5MTgsImFkU2NvcmUiOjAuMDEzNzcxMzgzMDkxODA3MzY1LCJhZFNjb3JlcyI6eyIxIjowLjAxMzc3MTM4MzA5MTgwNzM2NSwiMiI6MC4wMTM3NzEzODMwOTE4MDczNjV9LCJjcGMiOjEuNjcyMDAwMDAwMDAwMDAwMiwibWluQ3BjIjowLjAxLCJlQ3BjIjoxLjM4Mzk1NDMwODgwNjUxNywiYWR2ZXJ0U2xvdCI6NCwib3JkZXIiOjE1LCJhdHRyaWJ1dGVzIjoiIn0=\n",
      "Max Çalışma Modu Sayısı: 3.0 --> https://www.trendyol.com//xiaomi/mi-robot-vakumlu-paspas-mop-2-pro-beyaz-yeni-model-p-242734198?boutiqueId=620489&merchantId=968\n"
     ]
    }
   ],
   "source": [
    "print(\"Max Fiyat: \"+str(data[\"price\"].max()).replace('0.0', '') + \" TL --> \"  + str(data[\"url\"].loc[data[\"price\"].idxmax()]))\n",
    "print(\"Max Aşılabilir Engel Seviyesi: \"+str(data[\"Asilabilir_Engel_Seviyesi\"].max()) + \" cm --> \"  + str(data[\"url\"].loc[data[\"Asilabilir_Engel_Seviyesi\"].idxmax()]))\n",
    "print(\"Max Çalışma Modu Sayısı: \"+str(data[\"Calisma_Modu_Sayisi\"].max()) + \" --> \"+ str(data[\"url\"].loc[data[\"Calisma_Modu_Sayisi\"].idxmax()]))\n"
   ]
  },
  {
   "cell_type": "code",
   "execution_count": 193,
   "id": "4b975488",
   "metadata": {},
   "outputs": [
    {
     "name": "stdout",
     "output_type": "stream",
     "text": [
      "Max Fiyat: 135.0 TL --> https://www.trendyol.com//blc/hepa-13-filtre-philips-maraton-supurge-ile-uyumlu-p-410841694?boutiqueId=61&merchantId=200498\n",
      "Max Aşılabilir Engel Seviyesi: 1.0 cm --> https://www.trendyol.com//roborock/q7-max-beyaz-akilli-robot-supurge-p-316610701?boutiqueId=61&merchantId=107492\n",
      "Max Çalışma Modu Sayısı: 1.0 --> https://www.trendyol.com//roborock/s7-robot-supurge-otomatik-cop-bosaltma-p-463872421?boutiqueId=620489&merchantId=968\n"
     ]
    }
   ],
   "source": [
    "print(\"Max Fiyat: \"+str(data[\"price\"].min()).replace('0.0', '') + \" TL --> \"  + str(data[\"url\"].loc[data[\"price\"].idxmin()]))\n",
    "print(\"Max Aşılabilir Engel Seviyesi: \"+str(data[\"Asilabilir_Engel_Seviyesi\"].min()) + \" cm --> \"  + str(data[\"url\"].loc[data[\"Asilabilir_Engel_Seviyesi\"].idxmin()]))\n",
    "print(\"Max Çalışma Modu Sayısı: \"+str(data[\"Calisma_Modu_Sayisi\"].min()) + \" --> \"+ str(data[\"url\"].loc[data[\"Calisma_Modu_Sayisi\"].idxmin()]))\n"
   ]
  },
  {
   "cell_type": "code",
   "execution_count": 194,
   "id": "b2f34fd1",
   "metadata": {},
   "outputs": [],
   "source": [
    "data.to_csv(\"../Data/robot-fill-training.csv\",index=False)"
   ]
  },
  {
   "cell_type": "code",
   "execution_count": null,
   "id": "aa71e7f9",
   "metadata": {},
   "outputs": [],
   "source": []
  }
 ],
 "metadata": {
  "kernelspec": {
   "display_name": "Python 3 (ipykernel)",
   "language": "python",
   "name": "python3"
  },
  "language_info": {
   "codemirror_mode": {
    "name": "ipython",
    "version": 3
   },
   "file_extension": ".py",
   "mimetype": "text/x-python",
   "name": "python",
   "nbconvert_exporter": "python",
   "pygments_lexer": "ipython3",
   "version": "3.11.5"
  }
 },
 "nbformat": 4,
 "nbformat_minor": 5
}
