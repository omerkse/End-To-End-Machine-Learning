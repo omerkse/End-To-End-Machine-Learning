{
 "cells": [
  {
   "cell_type": "code",
   "execution_count": 1,
   "id": "24013ebd",
   "metadata": {},
   "outputs": [],
   "source": [
    "import pandas as pd\n",
    "import numpy as np"
   ]
  },
  {
   "cell_type": "code",
   "execution_count": 2,
   "id": "2ae4b9a0",
   "metadata": {},
   "outputs": [],
   "source": [
    "data = pd.read_csv(\"../Data/robot-fill-training2.csv\")"
   ]
  },
  {
   "cell_type": "code",
   "execution_count": 3,
   "id": "544f449c",
   "metadata": {},
   "outputs": [],
   "source": [
    "df = pd.DataFrame()"
   ]
  },
  {
   "cell_type": "code",
   "execution_count": 4,
   "id": "4f6d9e7b",
   "metadata": {},
   "outputs": [
    {
     "data": {
      "text/html": [
       "<div>\n",
       "<style scoped>\n",
       "    .dataframe tbody tr th:only-of-type {\n",
       "        vertical-align: middle;\n",
       "    }\n",
       "\n",
       "    .dataframe tbody tr th {\n",
       "        vertical-align: top;\n",
       "    }\n",
       "\n",
       "    .dataframe thead th {\n",
       "        text-align: right;\n",
       "    }\n",
       "</style>\n",
       "<table border=\"1\" class=\"dataframe\">\n",
       "  <thead>\n",
       "    <tr style=\"text-align: right;\">\n",
       "      <th></th>\n",
       "      <th>Asilabilir_Engel_Seviyesi</th>\n",
       "      <th>Haritalandirma</th>\n",
       "      <th>Hazne_Kapasitesi</th>\n",
       "      <th>Uygulama_Uzerinden_Kontrol</th>\n",
       "      <th>Yer_Silme_Ozelligi</th>\n",
       "      <th>Calisma_Modu_Sayisi</th>\n",
       "      <th>Ozellik</th>\n",
       "      <th>Sarjli_Kullanim_Suresi</th>\n",
       "      <th>url</th>\n",
       "      <th>price</th>\n",
       "      <th>Marka</th>\n",
       "    </tr>\n",
       "  </thead>\n",
       "  <tbody>\n",
       "    <tr>\n",
       "      <th>0</th>\n",
       "      <td>2.0</td>\n",
       "      <td>Lazer</td>\n",
       "      <td>250-500</td>\n",
       "      <td>Var</td>\n",
       "      <td>Var</td>\n",
       "      <td>3.0</td>\n",
       "      <td>Robot</td>\n",
       "      <td>60 - 120</td>\n",
       "      <td>https://www.trendyol.com//xiaomi/mi-robot-vaku...</td>\n",
       "      <td>9299.0</td>\n",
       "      <td>xiaomi</td>\n",
       "    </tr>\n",
       "    <tr>\n",
       "      <th>1</th>\n",
       "      <td>2.0</td>\n",
       "      <td>Lazer</td>\n",
       "      <td>250-500</td>\n",
       "      <td>Var</td>\n",
       "      <td>Var</td>\n",
       "      <td>3.0</td>\n",
       "      <td>Robot</td>\n",
       "      <td>120</td>\n",
       "      <td>https://www.trendyol.com//roborock/s8-sonic-mo...</td>\n",
       "      <td>18499.0</td>\n",
       "      <td>roborock</td>\n",
       "    </tr>\n",
       "    <tr>\n",
       "      <th>2</th>\n",
       "      <td>2.0</td>\n",
       "      <td>Lazer</td>\n",
       "      <td>250-500</td>\n",
       "      <td>Var</td>\n",
       "      <td>Var</td>\n",
       "      <td>3.0</td>\n",
       "      <td>Robot</td>\n",
       "      <td>120</td>\n",
       "      <td>https://www.trendyol.com//roborock/s8-sonic-ro...</td>\n",
       "      <td>17099.0</td>\n",
       "      <td>roborock</td>\n",
       "    </tr>\n",
       "    <tr>\n",
       "      <th>3</th>\n",
       "      <td>2.0</td>\n",
       "      <td>Lazer</td>\n",
       "      <td>250-500</td>\n",
       "      <td>Var</td>\n",
       "      <td>Var</td>\n",
       "      <td>3.0</td>\n",
       "      <td>Robot</td>\n",
       "      <td>120</td>\n",
       "      <td>https://www.trendyol.com//roidmi/eve-plus-akil...</td>\n",
       "      <td>14499.0</td>\n",
       "      <td>roidmi</td>\n",
       "    </tr>\n",
       "    <tr>\n",
       "      <th>4</th>\n",
       "      <td>1.0</td>\n",
       "      <td>Lazer</td>\n",
       "      <td>250-500</td>\n",
       "      <td>Var</td>\n",
       "      <td>Var</td>\n",
       "      <td>3.0</td>\n",
       "      <td>Robot</td>\n",
       "      <td>120</td>\n",
       "      <td>https://www.trendyol.com//roborock/q7-max-beya...</td>\n",
       "      <td>14599.0</td>\n",
       "      <td>roborock</td>\n",
       "    </tr>\n",
       "  </tbody>\n",
       "</table>\n",
       "</div>"
      ],
      "text/plain": [
       "   Asilabilir_Engel_Seviyesi Haritalandirma Hazne_Kapasitesi  \\\n",
       "0                        2.0         Lazer           250-500   \n",
       "1                        2.0          Lazer          250-500   \n",
       "2                        2.0          Lazer          250-500   \n",
       "3                        2.0          Lazer          250-500   \n",
       "4                        1.0         Lazer           250-500   \n",
       "\n",
       "  Uygulama_Uzerinden_Kontrol Yer_Silme_Ozelligi  Calisma_Modu_Sayisi Ozellik  \\\n",
       "0                        Var                Var                  3.0   Robot   \n",
       "1                        Var                Var                  3.0   Robot   \n",
       "2                        Var                Var                  3.0   Robot   \n",
       "3                        Var                Var                  3.0   Robot   \n",
       "4                        Var                Var                  3.0   Robot   \n",
       "\n",
       "  Sarjli_Kullanim_Suresi                                                url  \\\n",
       "0               60 - 120  https://www.trendyol.com//xiaomi/mi-robot-vaku...   \n",
       "1                    120  https://www.trendyol.com//roborock/s8-sonic-mo...   \n",
       "2                    120  https://www.trendyol.com//roborock/s8-sonic-ro...   \n",
       "3                    120  https://www.trendyol.com//roidmi/eve-plus-akil...   \n",
       "4                    120  https://www.trendyol.com//roborock/q7-max-beya...   \n",
       "\n",
       "     price     Marka  \n",
       "0   9299.0    xiaomi  \n",
       "1  18499.0  roborock  \n",
       "2  17099.0  roborock  \n",
       "3  14499.0    roidmi  \n",
       "4  14599.0  roborock  "
      ]
     },
     "execution_count": 4,
     "metadata": {},
     "output_type": "execute_result"
    }
   ],
   "source": [
    "data.head()"
   ]
  },
  {
   "cell_type": "code",
   "execution_count": 5,
   "id": "aabb5865",
   "metadata": {},
   "outputs": [],
   "source": [
    "data = data.drop(['Calisma_Modu_Sayisi','Ozellik','url'], axis=1)"
   ]
  },
  {
   "cell_type": "code",
   "execution_count": 6,
   "id": "15f857d9",
   "metadata": {},
   "outputs": [
    {
     "data": {
      "text/html": [
       "<div>\n",
       "<style scoped>\n",
       "    .dataframe tbody tr th:only-of-type {\n",
       "        vertical-align: middle;\n",
       "    }\n",
       "\n",
       "    .dataframe tbody tr th {\n",
       "        vertical-align: top;\n",
       "    }\n",
       "\n",
       "    .dataframe thead th {\n",
       "        text-align: right;\n",
       "    }\n",
       "</style>\n",
       "<table border=\"1\" class=\"dataframe\">\n",
       "  <thead>\n",
       "    <tr style=\"text-align: right;\">\n",
       "      <th></th>\n",
       "      <th>Asilabilir_Engel_Seviyesi</th>\n",
       "      <th>Haritalandirma</th>\n",
       "      <th>Hazne_Kapasitesi</th>\n",
       "      <th>Uygulama_Uzerinden_Kontrol</th>\n",
       "      <th>Yer_Silme_Ozelligi</th>\n",
       "      <th>Sarjli_Kullanim_Suresi</th>\n",
       "      <th>price</th>\n",
       "      <th>Marka</th>\n",
       "    </tr>\n",
       "  </thead>\n",
       "  <tbody>\n",
       "    <tr>\n",
       "      <th>0</th>\n",
       "      <td>2.0</td>\n",
       "      <td>Lazer</td>\n",
       "      <td>250-500</td>\n",
       "      <td>Var</td>\n",
       "      <td>Var</td>\n",
       "      <td>60 - 120</td>\n",
       "      <td>9299.0</td>\n",
       "      <td>xiaomi</td>\n",
       "    </tr>\n",
       "    <tr>\n",
       "      <th>1</th>\n",
       "      <td>2.0</td>\n",
       "      <td>Lazer</td>\n",
       "      <td>250-500</td>\n",
       "      <td>Var</td>\n",
       "      <td>Var</td>\n",
       "      <td>120</td>\n",
       "      <td>18499.0</td>\n",
       "      <td>roborock</td>\n",
       "    </tr>\n",
       "    <tr>\n",
       "      <th>2</th>\n",
       "      <td>2.0</td>\n",
       "      <td>Lazer</td>\n",
       "      <td>250-500</td>\n",
       "      <td>Var</td>\n",
       "      <td>Var</td>\n",
       "      <td>120</td>\n",
       "      <td>17099.0</td>\n",
       "      <td>roborock</td>\n",
       "    </tr>\n",
       "    <tr>\n",
       "      <th>3</th>\n",
       "      <td>2.0</td>\n",
       "      <td>Lazer</td>\n",
       "      <td>250-500</td>\n",
       "      <td>Var</td>\n",
       "      <td>Var</td>\n",
       "      <td>120</td>\n",
       "      <td>14499.0</td>\n",
       "      <td>roidmi</td>\n",
       "    </tr>\n",
       "    <tr>\n",
       "      <th>4</th>\n",
       "      <td>1.0</td>\n",
       "      <td>Lazer</td>\n",
       "      <td>250-500</td>\n",
       "      <td>Var</td>\n",
       "      <td>Var</td>\n",
       "      <td>120</td>\n",
       "      <td>14599.0</td>\n",
       "      <td>roborock</td>\n",
       "    </tr>\n",
       "  </tbody>\n",
       "</table>\n",
       "</div>"
      ],
      "text/plain": [
       "   Asilabilir_Engel_Seviyesi Haritalandirma Hazne_Kapasitesi  \\\n",
       "0                        2.0         Lazer           250-500   \n",
       "1                        2.0          Lazer          250-500   \n",
       "2                        2.0          Lazer          250-500   \n",
       "3                        2.0          Lazer          250-500   \n",
       "4                        1.0         Lazer           250-500   \n",
       "\n",
       "  Uygulama_Uzerinden_Kontrol Yer_Silme_Ozelligi Sarjli_Kullanim_Suresi  \\\n",
       "0                        Var                Var               60 - 120   \n",
       "1                        Var                Var                    120   \n",
       "2                        Var                Var                    120   \n",
       "3                        Var                Var                    120   \n",
       "4                        Var                Var                    120   \n",
       "\n",
       "     price     Marka  \n",
       "0   9299.0    xiaomi  \n",
       "1  18499.0  roborock  \n",
       "2  17099.0  roborock  \n",
       "3  14499.0    roidmi  \n",
       "4  14599.0  roborock  "
      ]
     },
     "execution_count": 6,
     "metadata": {},
     "output_type": "execute_result"
    }
   ],
   "source": [
    "data.head()"
   ]
  },
  {
   "cell_type": "code",
   "execution_count": 7,
   "id": "93489f00",
   "metadata": {},
   "outputs": [],
   "source": [
    "df['Asilabilir_Engel_Seviyesi'] = data['Asilabilir_Engel_Seviyesi']\n",
    "df['Haritalandirma'] = data['Haritalandirma']\n",
    "df['Hazne_Kapasitesi'] = data['Hazne_Kapasitesi']\n",
    "df['Uygulama_Uzerinden_Kontrol'] = data['Uygulama_Uzerinden_Kontrol']\n",
    "df['Yer_Silme_Ozelligi'] = data['Yer_Silme_Ozelligi']\n",
    "df['Sarjli_Kullanim_Suresi'] = data['Sarjli_Kullanim_Suresi']\n",
    "df['Fiyat'] = data['price']\n",
    "df['marka'] = data['Marka']"
   ]
  },
  {
   "cell_type": "code",
   "execution_count": 8,
   "id": "2c338313",
   "metadata": {},
   "outputs": [
    {
     "data": {
      "text/html": [
       "<div>\n",
       "<style scoped>\n",
       "    .dataframe tbody tr th:only-of-type {\n",
       "        vertical-align: middle;\n",
       "    }\n",
       "\n",
       "    .dataframe tbody tr th {\n",
       "        vertical-align: top;\n",
       "    }\n",
       "\n",
       "    .dataframe thead th {\n",
       "        text-align: right;\n",
       "    }\n",
       "</style>\n",
       "<table border=\"1\" class=\"dataframe\">\n",
       "  <thead>\n",
       "    <tr style=\"text-align: right;\">\n",
       "      <th></th>\n",
       "      <th>Asilabilir_Engel_Seviyesi</th>\n",
       "      <th>Haritalandirma</th>\n",
       "      <th>Hazne_Kapasitesi</th>\n",
       "      <th>Uygulama_Uzerinden_Kontrol</th>\n",
       "      <th>Yer_Silme_Ozelligi</th>\n",
       "      <th>Sarjli_Kullanim_Suresi</th>\n",
       "      <th>Fiyat</th>\n",
       "      <th>marka</th>\n",
       "    </tr>\n",
       "  </thead>\n",
       "  <tbody>\n",
       "    <tr>\n",
       "      <th>0</th>\n",
       "      <td>2.0</td>\n",
       "      <td>Lazer</td>\n",
       "      <td>250-500</td>\n",
       "      <td>Var</td>\n",
       "      <td>Var</td>\n",
       "      <td>60 - 120</td>\n",
       "      <td>9299.0</td>\n",
       "      <td>xiaomi</td>\n",
       "    </tr>\n",
       "    <tr>\n",
       "      <th>1</th>\n",
       "      <td>2.0</td>\n",
       "      <td>Lazer</td>\n",
       "      <td>250-500</td>\n",
       "      <td>Var</td>\n",
       "      <td>Var</td>\n",
       "      <td>120</td>\n",
       "      <td>18499.0</td>\n",
       "      <td>roborock</td>\n",
       "    </tr>\n",
       "    <tr>\n",
       "      <th>2</th>\n",
       "      <td>2.0</td>\n",
       "      <td>Lazer</td>\n",
       "      <td>250-500</td>\n",
       "      <td>Var</td>\n",
       "      <td>Var</td>\n",
       "      <td>120</td>\n",
       "      <td>17099.0</td>\n",
       "      <td>roborock</td>\n",
       "    </tr>\n",
       "    <tr>\n",
       "      <th>3</th>\n",
       "      <td>2.0</td>\n",
       "      <td>Lazer</td>\n",
       "      <td>250-500</td>\n",
       "      <td>Var</td>\n",
       "      <td>Var</td>\n",
       "      <td>120</td>\n",
       "      <td>14499.0</td>\n",
       "      <td>roidmi</td>\n",
       "    </tr>\n",
       "    <tr>\n",
       "      <th>4</th>\n",
       "      <td>1.0</td>\n",
       "      <td>Lazer</td>\n",
       "      <td>250-500</td>\n",
       "      <td>Var</td>\n",
       "      <td>Var</td>\n",
       "      <td>120</td>\n",
       "      <td>14599.0</td>\n",
       "      <td>roborock</td>\n",
       "    </tr>\n",
       "  </tbody>\n",
       "</table>\n",
       "</div>"
      ],
      "text/plain": [
       "   Asilabilir_Engel_Seviyesi Haritalandirma Hazne_Kapasitesi  \\\n",
       "0                        2.0         Lazer           250-500   \n",
       "1                        2.0          Lazer          250-500   \n",
       "2                        2.0          Lazer          250-500   \n",
       "3                        2.0          Lazer          250-500   \n",
       "4                        1.0         Lazer           250-500   \n",
       "\n",
       "  Uygulama_Uzerinden_Kontrol Yer_Silme_Ozelligi Sarjli_Kullanim_Suresi  \\\n",
       "0                        Var                Var               60 - 120   \n",
       "1                        Var                Var                    120   \n",
       "2                        Var                Var                    120   \n",
       "3                        Var                Var                    120   \n",
       "4                        Var                Var                    120   \n",
       "\n",
       "     Fiyat     marka  \n",
       "0   9299.0    xiaomi  \n",
       "1  18499.0  roborock  \n",
       "2  17099.0  roborock  \n",
       "3  14499.0    roidmi  \n",
       "4  14599.0  roborock  "
      ]
     },
     "execution_count": 8,
     "metadata": {},
     "output_type": "execute_result"
    }
   ],
   "source": [
    "df.head()"
   ]
  },
  {
   "cell_type": "code",
   "execution_count": 11,
   "id": "a179d7d9",
   "metadata": {},
   "outputs": [
    {
     "data": {
      "text/plain": [
       "marka\n",
       "philips     201\n",
       "xiaomi       68\n",
       "roborock     30\n",
       "viomi        28\n",
       "arcelik      20\n",
       "           ... \n",
       "lura          1\n",
       "botslab       1\n",
       "irobat        1\n",
       "cambot        1\n",
       "hf520         1\n",
       "Name: count, Length: 129, dtype: int64"
      ]
     },
     "execution_count": 11,
     "metadata": {},
     "output_type": "execute_result"
    }
   ],
   "source": [
    "df['marka'].value_counts()"
   ]
  },
  {
   "cell_type": "code",
   "execution_count": null,
   "id": "21274b42",
   "metadata": {},
   "outputs": [],
   "source": []
  },
  {
   "cell_type": "code",
   "execution_count": 12,
   "id": "a280640b",
   "metadata": {},
   "outputs": [
    {
     "data": {
      "text/plain": [
       "Haritalandirma\n",
       "Lazer        369\n",
       "Jiroskop     130\n",
       "Lazer        128\n",
       "Yok           77\n",
       "Kamera        30\n",
       "Name: count, dtype: int64"
      ]
     },
     "execution_count": 12,
     "metadata": {},
     "output_type": "execute_result"
    }
   ],
   "source": [
    "df['Haritalandirma'].value_counts()"
   ]
  },
  {
   "cell_type": "code",
   "execution_count": 13,
   "id": "1ea1f072",
   "metadata": {},
   "outputs": [
    {
     "data": {
      "text/plain": [
       "Hazne_Kapasitesi\n",
       "250-500      388\n",
       "0-250        246\n",
       "500-1000      69\n",
       "1500          17\n",
       "1000-1500     14\n",
       "Name: count, dtype: int64"
      ]
     },
     "execution_count": 13,
     "metadata": {},
     "output_type": "execute_result"
    }
   ],
   "source": [
    "df['Hazne_Kapasitesi'].value_counts()"
   ]
  },
  {
   "cell_type": "code",
   "execution_count": 14,
   "id": "9919d126",
   "metadata": {},
   "outputs": [
    {
     "data": {
      "text/plain": [
       "Uygulama_Uzerinden_Kontrol\n",
       "Var    683\n",
       "Yok     51\n",
       "Name: count, dtype: int64"
      ]
     },
     "execution_count": 14,
     "metadata": {},
     "output_type": "execute_result"
    }
   ],
   "source": [
    "df['Uygulama_Uzerinden_Kontrol'].value_counts()"
   ]
  },
  {
   "cell_type": "code",
   "execution_count": 15,
   "id": "9bd24f43",
   "metadata": {},
   "outputs": [
    {
     "data": {
      "text/plain": [
       "Yer_Silme_Ozelligi\n",
       "Var    649\n",
       "Yok     85\n",
       "Name: count, dtype: int64"
      ]
     },
     "execution_count": 15,
     "metadata": {},
     "output_type": "execute_result"
    }
   ],
   "source": [
    "df['Yer_Silme_Ozelligi'].value_counts()"
   ]
  },
  {
   "cell_type": "code",
   "execution_count": 16,
   "id": "3384f0c9",
   "metadata": {},
   "outputs": [
    {
     "data": {
      "text/plain": [
       "Sarjli_Kullanim_Suresi\n",
       "120         515\n",
       "30 - 60     116\n",
       "60 - 120     96\n",
       "0 - 30        7\n",
       "Name: count, dtype: int64"
      ]
     },
     "execution_count": 16,
     "metadata": {},
     "output_type": "execute_result"
    }
   ],
   "source": [
    "df['Sarjli_Kullanim_Suresi'].value_counts()"
   ]
  },
  {
   "cell_type": "code",
   "execution_count": 17,
   "id": "95ebdf81",
   "metadata": {},
   "outputs": [],
   "source": [
    "from sklearn.preprocessing import LabelEncoder\n",
    "enc = LabelEncoder()"
   ]
  },
  {
   "cell_type": "code",
   "execution_count": 18,
   "id": "44d7051a",
   "metadata": {},
   "outputs": [],
   "source": [
    "df['marka'] = enc.fit_transform(df['marka'])"
   ]
  },
  {
   "cell_type": "code",
   "execution_count": 20,
   "id": "f2d526cb",
   "metadata": {},
   "outputs": [
    {
     "data": {
      "text/plain": [
       "marka\n",
       "79     201\n",
       "123     68\n",
       "86      30\n",
       "119     28\n",
       "6       20\n",
       "      ... \n",
       "62       1\n",
       "16       1\n",
       "54       1\n",
       "18       1\n",
       "43       1\n",
       "Name: count, Length: 129, dtype: int64"
      ]
     },
     "execution_count": 20,
     "metadata": {},
     "output_type": "execute_result"
    }
   ],
   "source": [
    "df['marka'].value_counts()"
   ]
  },
  {
   "cell_type": "code",
   "execution_count": 21,
   "id": "11ae4a30",
   "metadata": {},
   "outputs": [],
   "source": [
    "df['Haritalandirma'] = enc.fit_transform(df['Haritalandirma'])"
   ]
  },
  {
   "cell_type": "code",
   "execution_count": 22,
   "id": "55df759f",
   "metadata": {},
   "outputs": [
    {
     "data": {
      "text/plain": [
       "Haritalandirma\n",
       "3    369\n",
       "0    130\n",
       "2    128\n",
       "4     77\n",
       "1     30\n",
       "Name: count, dtype: int64"
      ]
     },
     "execution_count": 22,
     "metadata": {},
     "output_type": "execute_result"
    }
   ],
   "source": [
    "df['Haritalandirma'].value_counts()"
   ]
  },
  {
   "cell_type": "code",
   "execution_count": 23,
   "id": "f55bab2d",
   "metadata": {},
   "outputs": [],
   "source": [
    "df['Hazne_Kapasitesi'] = enc.fit_transform(df['Hazne_Kapasitesi'])"
   ]
  },
  {
   "cell_type": "code",
   "execution_count": 24,
   "id": "e3e55070",
   "metadata": {},
   "outputs": [
    {
     "data": {
      "text/plain": [
       "Hazne_Kapasitesi\n",
       "3    388\n",
       "0    246\n",
       "4     69\n",
       "2     17\n",
       "1     14\n",
       "Name: count, dtype: int64"
      ]
     },
     "execution_count": 24,
     "metadata": {},
     "output_type": "execute_result"
    }
   ],
   "source": [
    "df['Hazne_Kapasitesi'].value_counts()"
   ]
  },
  {
   "cell_type": "code",
   "execution_count": 25,
   "id": "2556573f",
   "metadata": {},
   "outputs": [],
   "source": [
    "df['Uygulama_Uzerinden_Kontrol'] = enc.fit_transform(df['Uygulama_Uzerinden_Kontrol'])"
   ]
  },
  {
   "cell_type": "code",
   "execution_count": 26,
   "id": "81c97f2a",
   "metadata": {},
   "outputs": [
    {
     "data": {
      "text/plain": [
       "Uygulama_Uzerinden_Kontrol\n",
       "0    683\n",
       "1     51\n",
       "Name: count, dtype: int64"
      ]
     },
     "execution_count": 26,
     "metadata": {},
     "output_type": "execute_result"
    }
   ],
   "source": [
    "df['Uygulama_Uzerinden_Kontrol'].value_counts()"
   ]
  },
  {
   "cell_type": "code",
   "execution_count": 27,
   "id": "e592a506",
   "metadata": {},
   "outputs": [],
   "source": [
    "df['Yer_Silme_Ozelligi'] = enc.fit_transform(df['Yer_Silme_Ozelligi'])"
   ]
  },
  {
   "cell_type": "code",
   "execution_count": 28,
   "id": "ec1895fc",
   "metadata": {},
   "outputs": [
    {
     "data": {
      "text/plain": [
       "Yer_Silme_Ozelligi\n",
       "0    649\n",
       "1     85\n",
       "Name: count, dtype: int64"
      ]
     },
     "execution_count": 28,
     "metadata": {},
     "output_type": "execute_result"
    }
   ],
   "source": [
    "df['Yer_Silme_Ozelligi'].value_counts()"
   ]
  },
  {
   "cell_type": "code",
   "execution_count": 29,
   "id": "3284502a",
   "metadata": {},
   "outputs": [],
   "source": [
    "df['Sarjli_Kullanim_Suresi'] = enc.fit_transform(df['Sarjli_Kullanim_Suresi'])"
   ]
  },
  {
   "cell_type": "code",
   "execution_count": 30,
   "id": "e65e6f76",
   "metadata": {},
   "outputs": [
    {
     "data": {
      "text/plain": [
       "Sarjli_Kullanim_Suresi\n",
       "1    515\n",
       "2    116\n",
       "3     96\n",
       "0      7\n",
       "Name: count, dtype: int64"
      ]
     },
     "execution_count": 30,
     "metadata": {},
     "output_type": "execute_result"
    }
   ],
   "source": [
    "df['Sarjli_Kullanim_Suresi'].value_counts()"
   ]
  },
  {
   "cell_type": "code",
   "execution_count": 31,
   "id": "293a0980",
   "metadata": {},
   "outputs": [
    {
     "data": {
      "text/html": [
       "<div>\n",
       "<style scoped>\n",
       "    .dataframe tbody tr th:only-of-type {\n",
       "        vertical-align: middle;\n",
       "    }\n",
       "\n",
       "    .dataframe tbody tr th {\n",
       "        vertical-align: top;\n",
       "    }\n",
       "\n",
       "    .dataframe thead th {\n",
       "        text-align: right;\n",
       "    }\n",
       "</style>\n",
       "<table border=\"1\" class=\"dataframe\">\n",
       "  <thead>\n",
       "    <tr style=\"text-align: right;\">\n",
       "      <th></th>\n",
       "      <th>Asilabilir_Engel_Seviyesi</th>\n",
       "      <th>Haritalandirma</th>\n",
       "      <th>Hazne_Kapasitesi</th>\n",
       "      <th>Uygulama_Uzerinden_Kontrol</th>\n",
       "      <th>Yer_Silme_Ozelligi</th>\n",
       "      <th>Sarjli_Kullanim_Suresi</th>\n",
       "      <th>Fiyat</th>\n",
       "      <th>marka</th>\n",
       "    </tr>\n",
       "  </thead>\n",
       "  <tbody>\n",
       "    <tr>\n",
       "      <th>0</th>\n",
       "      <td>2.0</td>\n",
       "      <td>3</td>\n",
       "      <td>3</td>\n",
       "      <td>0</td>\n",
       "      <td>0</td>\n",
       "      <td>3</td>\n",
       "      <td>9299.0</td>\n",
       "      <td>123</td>\n",
       "    </tr>\n",
       "    <tr>\n",
       "      <th>1</th>\n",
       "      <td>2.0</td>\n",
       "      <td>2</td>\n",
       "      <td>3</td>\n",
       "      <td>0</td>\n",
       "      <td>0</td>\n",
       "      <td>1</td>\n",
       "      <td>18499.0</td>\n",
       "      <td>86</td>\n",
       "    </tr>\n",
       "    <tr>\n",
       "      <th>2</th>\n",
       "      <td>2.0</td>\n",
       "      <td>2</td>\n",
       "      <td>3</td>\n",
       "      <td>0</td>\n",
       "      <td>0</td>\n",
       "      <td>1</td>\n",
       "      <td>17099.0</td>\n",
       "      <td>86</td>\n",
       "    </tr>\n",
       "    <tr>\n",
       "      <th>3</th>\n",
       "      <td>2.0</td>\n",
       "      <td>2</td>\n",
       "      <td>3</td>\n",
       "      <td>0</td>\n",
       "      <td>0</td>\n",
       "      <td>1</td>\n",
       "      <td>14499.0</td>\n",
       "      <td>89</td>\n",
       "    </tr>\n",
       "    <tr>\n",
       "      <th>4</th>\n",
       "      <td>1.0</td>\n",
       "      <td>3</td>\n",
       "      <td>3</td>\n",
       "      <td>0</td>\n",
       "      <td>0</td>\n",
       "      <td>1</td>\n",
       "      <td>14599.0</td>\n",
       "      <td>86</td>\n",
       "    </tr>\n",
       "    <tr>\n",
       "      <th>5</th>\n",
       "      <td>2.0</td>\n",
       "      <td>2</td>\n",
       "      <td>3</td>\n",
       "      <td>0</td>\n",
       "      <td>0</td>\n",
       "      <td>1</td>\n",
       "      <td>10390.0</td>\n",
       "      <td>36</td>\n",
       "    </tr>\n",
       "    <tr>\n",
       "      <th>6</th>\n",
       "      <td>2.0</td>\n",
       "      <td>2</td>\n",
       "      <td>0</td>\n",
       "      <td>0</td>\n",
       "      <td>0</td>\n",
       "      <td>1</td>\n",
       "      <td>11299.0</td>\n",
       "      <td>79</td>\n",
       "    </tr>\n",
       "    <tr>\n",
       "      <th>7</th>\n",
       "      <td>2.0</td>\n",
       "      <td>2</td>\n",
       "      <td>3</td>\n",
       "      <td>0</td>\n",
       "      <td>0</td>\n",
       "      <td>1</td>\n",
       "      <td>7999.0</td>\n",
       "      <td>95</td>\n",
       "    </tr>\n",
       "    <tr>\n",
       "      <th>8</th>\n",
       "      <td>2.0</td>\n",
       "      <td>1</td>\n",
       "      <td>4</td>\n",
       "      <td>0</td>\n",
       "      <td>0</td>\n",
       "      <td>3</td>\n",
       "      <td>8470.0</td>\n",
       "      <td>123</td>\n",
       "    </tr>\n",
       "    <tr>\n",
       "      <th>9</th>\n",
       "      <td>2.0</td>\n",
       "      <td>2</td>\n",
       "      <td>0</td>\n",
       "      <td>0</td>\n",
       "      <td>0</td>\n",
       "      <td>1</td>\n",
       "      <td>11499.0</td>\n",
       "      <td>123</td>\n",
       "    </tr>\n",
       "  </tbody>\n",
       "</table>\n",
       "</div>"
      ],
      "text/plain": [
       "   Asilabilir_Engel_Seviyesi  Haritalandirma  Hazne_Kapasitesi  \\\n",
       "0                        2.0               3                 3   \n",
       "1                        2.0               2                 3   \n",
       "2                        2.0               2                 3   \n",
       "3                        2.0               2                 3   \n",
       "4                        1.0               3                 3   \n",
       "5                        2.0               2                 3   \n",
       "6                        2.0               2                 0   \n",
       "7                        2.0               2                 3   \n",
       "8                        2.0               1                 4   \n",
       "9                        2.0               2                 0   \n",
       "\n",
       "   Uygulama_Uzerinden_Kontrol  Yer_Silme_Ozelligi  Sarjli_Kullanim_Suresi  \\\n",
       "0                           0                   0                       3   \n",
       "1                           0                   0                       1   \n",
       "2                           0                   0                       1   \n",
       "3                           0                   0                       1   \n",
       "4                           0                   0                       1   \n",
       "5                           0                   0                       1   \n",
       "6                           0                   0                       1   \n",
       "7                           0                   0                       1   \n",
       "8                           0                   0                       3   \n",
       "9                           0                   0                       1   \n",
       "\n",
       "     Fiyat  marka  \n",
       "0   9299.0    123  \n",
       "1  18499.0     86  \n",
       "2  17099.0     86  \n",
       "3  14499.0     89  \n",
       "4  14599.0     86  \n",
       "5  10390.0     36  \n",
       "6  11299.0     79  \n",
       "7   7999.0     95  \n",
       "8   8470.0    123  \n",
       "9  11499.0    123  "
      ]
     },
     "execution_count": 31,
     "metadata": {},
     "output_type": "execute_result"
    }
   ],
   "source": [
    "df.head(10)"
   ]
  },
  {
   "cell_type": "code",
   "execution_count": 32,
   "id": "89ab02bc",
   "metadata": {},
   "outputs": [],
   "source": [
    "df.to_csv(\"../Data/robot-training.csv\",index=False)"
   ]
  },
  {
   "cell_type": "markdown",
   "id": "25a517f7",
   "metadata": {},
   "source": []
  },
  {
   "cell_type": "code",
   "execution_count": 34,
   "id": "f0acda39",
   "metadata": {},
   "outputs": [],
   "source": [
    "# dataset eğitime hazır\n"
   ]
  },
  {
   "cell_type": "code",
   "execution_count": null,
   "id": "11112127",
   "metadata": {},
   "outputs": [],
   "source": []
  }
 ],
 "metadata": {
  "kernelspec": {
   "display_name": "Python 3 (ipykernel)",
   "language": "python",
   "name": "python3"
  },
  "language_info": {
   "codemirror_mode": {
    "name": "ipython",
    "version": 3
   },
   "file_extension": ".py",
   "mimetype": "text/x-python",
   "name": "python",
   "nbconvert_exporter": "python",
   "pygments_lexer": "ipython3",
   "version": "3.11.5"
  }
 },
 "nbformat": 4,
 "nbformat_minor": 5
}
