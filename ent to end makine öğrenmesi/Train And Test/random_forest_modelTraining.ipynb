{
 "cells": [
  {
   "cell_type": "code",
   "execution_count": 1,
   "id": "afca8d96",
   "metadata": {},
   "outputs": [],
   "source": [
    "import numpy as np\n",
    "import matplotlib.pyplot as plt\n",
    "import pandas as pd\n",
    "import math\n",
    "from sklearn.metrics import r2_score, mean_squared_error"
   ]
  },
  {
   "cell_type": "code",
   "execution_count": 2,
   "id": "6b670c11",
   "metadata": {},
   "outputs": [],
   "source": [
    "dataset = pd.read_csv('../Data/robot-training.csv')"
   ]
  },
  {
   "cell_type": "code",
   "execution_count": 3,
   "id": "b27ccfeb",
   "metadata": {},
   "outputs": [
    {
     "data": {
      "text/html": [
       "<div>\n",
       "<style scoped>\n",
       "    .dataframe tbody tr th:only-of-type {\n",
       "        vertical-align: middle;\n",
       "    }\n",
       "\n",
       "    .dataframe tbody tr th {\n",
       "        vertical-align: top;\n",
       "    }\n",
       "\n",
       "    .dataframe thead th {\n",
       "        text-align: right;\n",
       "    }\n",
       "</style>\n",
       "<table border=\"1\" class=\"dataframe\">\n",
       "  <thead>\n",
       "    <tr style=\"text-align: right;\">\n",
       "      <th></th>\n",
       "      <th>Asilabilir_Engel_Seviyesi</th>\n",
       "      <th>Haritalandirma</th>\n",
       "      <th>Hazne_Kapasitesi</th>\n",
       "      <th>Uygulama_Uzerinden_Kontrol</th>\n",
       "      <th>Yer_Silme_Ozelligi</th>\n",
       "      <th>Sarjli_Kullanim_Suresi</th>\n",
       "      <th>Fiyat</th>\n",
       "      <th>marka</th>\n",
       "    </tr>\n",
       "  </thead>\n",
       "  <tbody>\n",
       "    <tr>\n",
       "      <th>0</th>\n",
       "      <td>2.0</td>\n",
       "      <td>3</td>\n",
       "      <td>3</td>\n",
       "      <td>0</td>\n",
       "      <td>0</td>\n",
       "      <td>3</td>\n",
       "      <td>9299.0</td>\n",
       "      <td>123</td>\n",
       "    </tr>\n",
       "    <tr>\n",
       "      <th>1</th>\n",
       "      <td>2.0</td>\n",
       "      <td>2</td>\n",
       "      <td>3</td>\n",
       "      <td>0</td>\n",
       "      <td>0</td>\n",
       "      <td>1</td>\n",
       "      <td>18499.0</td>\n",
       "      <td>86</td>\n",
       "    </tr>\n",
       "    <tr>\n",
       "      <th>2</th>\n",
       "      <td>2.0</td>\n",
       "      <td>2</td>\n",
       "      <td>3</td>\n",
       "      <td>0</td>\n",
       "      <td>0</td>\n",
       "      <td>1</td>\n",
       "      <td>17099.0</td>\n",
       "      <td>86</td>\n",
       "    </tr>\n",
       "    <tr>\n",
       "      <th>3</th>\n",
       "      <td>2.0</td>\n",
       "      <td>2</td>\n",
       "      <td>3</td>\n",
       "      <td>0</td>\n",
       "      <td>0</td>\n",
       "      <td>1</td>\n",
       "      <td>14499.0</td>\n",
       "      <td>89</td>\n",
       "    </tr>\n",
       "    <tr>\n",
       "      <th>4</th>\n",
       "      <td>1.0</td>\n",
       "      <td>3</td>\n",
       "      <td>3</td>\n",
       "      <td>0</td>\n",
       "      <td>0</td>\n",
       "      <td>1</td>\n",
       "      <td>14599.0</td>\n",
       "      <td>86</td>\n",
       "    </tr>\n",
       "  </tbody>\n",
       "</table>\n",
       "</div>"
      ],
      "text/plain": [
       "   Asilabilir_Engel_Seviyesi  Haritalandirma  Hazne_Kapasitesi  \\\n",
       "0                        2.0               3                 3   \n",
       "1                        2.0               2                 3   \n",
       "2                        2.0               2                 3   \n",
       "3                        2.0               2                 3   \n",
       "4                        1.0               3                 3   \n",
       "\n",
       "   Uygulama_Uzerinden_Kontrol  Yer_Silme_Ozelligi  Sarjli_Kullanim_Suresi  \\\n",
       "0                           0                   0                       3   \n",
       "1                           0                   0                       1   \n",
       "2                           0                   0                       1   \n",
       "3                           0                   0                       1   \n",
       "4                           0                   0                       1   \n",
       "\n",
       "     Fiyat  marka  \n",
       "0   9299.0    123  \n",
       "1  18499.0     86  \n",
       "2  17099.0     86  \n",
       "3  14499.0     89  \n",
       "4  14599.0     86  "
      ]
     },
     "execution_count": 3,
     "metadata": {},
     "output_type": "execute_result"
    }
   ],
   "source": [
    "dataset.head()"
   ]
  },
  {
   "cell_type": "code",
   "execution_count": 4,
   "id": "794c7eba",
   "metadata": {},
   "outputs": [],
   "source": [
    "X = dataset.iloc[:, 0:7].values\n",
    "y = dataset.iloc[:, -2].values\n",
    "y = y.reshape(-1, 1) "
   ]
  },
  {
   "cell_type": "code",
   "execution_count": 5,
   "id": "2acb016d",
   "metadata": {},
   "outputs": [],
   "source": [
    "from sklearn.model_selection import train_test_split\n",
    "X_train, X_test, y_train, y_test = train_test_split(X, y, test_size = 0.2, random_state = 0)"
   ]
  },
  {
   "cell_type": "code",
   "execution_count": 6,
   "id": "c346c643",
   "metadata": {},
   "outputs": [
    {
     "name": "stderr",
     "output_type": "stream",
     "text": [
      "D:\\anaconda3\\Lib\\site-packages\\sklearn\\base.py:1151: DataConversionWarning: A column-vector y was passed when a 1d array was expected. Please change the shape of y to (n_samples,), for example using ravel().\n",
      "  return fit_method(estimator, *args, **kwargs)\n"
     ]
    }
   ],
   "source": [
    "from sklearn.ensemble import RandomForestRegressor\n",
    "regressor = RandomForestRegressor(n_estimators = 100, random_state = 0)\n",
    "regressor.fit(X_train, y_train)\n",
    "y_predRF = regressor.predict(X_test)"
   ]
  },
  {
   "cell_type": "code",
   "execution_count": 7,
   "id": "80e934d0",
   "metadata": {},
   "outputs": [],
   "source": [
    "from sklearn.metrics import r2_score\n",
    "RF_RSCORE = r2_score(y_test, y_predRF) "
   ]
  },
  {
   "cell_type": "code",
   "execution_count": 8,
   "id": "21ffba00",
   "metadata": {},
   "outputs": [
    {
     "name": "stdout",
     "output_type": "stream",
     "text": [
      "0.9996115240757905\n"
     ]
    }
   ],
   "source": [
    "print(RF_RSCORE)"
   ]
  },
  {
   "cell_type": "code",
   "execution_count": 9,
   "id": "bbdb8b13",
   "metadata": {},
   "outputs": [
    {
     "name": "stdout",
     "output_type": "stream",
     "text": [
      "Decision Tree Regresyon RMS Değeri: 1302.7242128528444\n"
     ]
    }
   ],
   "source": [
    "DT_RMS = math.sqrt(mean_squared_error(y_test, y_predRF))\n",
    "print(\"Decision Tree Regresyon RMS Değeri:\", DT_RMS)"
   ]
  },
  {
   "cell_type": "code",
   "execution_count": 10,
   "id": "89fa6274",
   "metadata": {},
   "outputs": [
    {
     "data": {
      "text/plain": [
       "['../Modelpkl/random_forest_model.pkl']"
      ]
     },
     "execution_count": 10,
     "metadata": {},
     "output_type": "execute_result"
    }
   ],
   "source": [
    "import joblib\n",
    "joblib.dump(regressor, \"../Modelpkl/random_forest_model.pkl\")"
   ]
  },
  {
   "cell_type": "code",
   "execution_count": null,
   "id": "45370eb9",
   "metadata": {},
   "outputs": [],
   "source": []
  }
 ],
 "metadata": {
  "kernelspec": {
   "display_name": "Python 3 (ipykernel)",
   "language": "python",
   "name": "python3"
  },
  "language_info": {
   "codemirror_mode": {
    "name": "ipython",
    "version": 3
   },
   "file_extension": ".py",
   "mimetype": "text/x-python",
   "name": "python",
   "nbconvert_exporter": "python",
   "pygments_lexer": "ipython3",
   "version": "3.11.5"
  }
 },
 "nbformat": 4,
 "nbformat_minor": 5
}
