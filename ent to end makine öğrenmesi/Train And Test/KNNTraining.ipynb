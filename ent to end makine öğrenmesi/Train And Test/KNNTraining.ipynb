{
 "cells": [
  {
   "cell_type": "code",
   "execution_count": 39,
   "id": "13294ae0",
   "metadata": {},
   "outputs": [],
   "source": [
    "import numpy as np\n",
    "import matplotlib.pyplot as plt\n",
    "import pandas as pd\n",
    "import math \n",
    "from sklearn.metrics import mean_squared_error"
   ]
  },
  {
   "cell_type": "code",
   "execution_count": 40,
   "id": "9017c612",
   "metadata": {},
   "outputs": [],
   "source": [
    "dataset = pd.read_csv('../Data/robot-training.csv')"
   ]
  },
  {
   "cell_type": "code",
   "execution_count": 41,
   "id": "4f003aa5",
   "metadata": {},
   "outputs": [
    {
     "data": {
      "text/html": [
       "<div>\n",
       "<style scoped>\n",
       "    .dataframe tbody tr th:only-of-type {\n",
       "        vertical-align: middle;\n",
       "    }\n",
       "\n",
       "    .dataframe tbody tr th {\n",
       "        vertical-align: top;\n",
       "    }\n",
       "\n",
       "    .dataframe thead th {\n",
       "        text-align: right;\n",
       "    }\n",
       "</style>\n",
       "<table border=\"1\" class=\"dataframe\">\n",
       "  <thead>\n",
       "    <tr style=\"text-align: right;\">\n",
       "      <th></th>\n",
       "      <th>Asilabilir_Engel_Seviyesi</th>\n",
       "      <th>Haritalandirma</th>\n",
       "      <th>Hazne_Kapasitesi</th>\n",
       "      <th>Uygulama_Uzerinden_Kontrol</th>\n",
       "      <th>Yer_Silme_Ozelligi</th>\n",
       "      <th>Sarjli_Kullanim_Suresi</th>\n",
       "      <th>Fiyat</th>\n",
       "      <th>marka</th>\n",
       "    </tr>\n",
       "  </thead>\n",
       "  <tbody>\n",
       "    <tr>\n",
       "      <th>0</th>\n",
       "      <td>2.0</td>\n",
       "      <td>3</td>\n",
       "      <td>3</td>\n",
       "      <td>0</td>\n",
       "      <td>0</td>\n",
       "      <td>3</td>\n",
       "      <td>9299.0</td>\n",
       "      <td>123</td>\n",
       "    </tr>\n",
       "    <tr>\n",
       "      <th>1</th>\n",
       "      <td>2.0</td>\n",
       "      <td>2</td>\n",
       "      <td>3</td>\n",
       "      <td>0</td>\n",
       "      <td>0</td>\n",
       "      <td>1</td>\n",
       "      <td>18499.0</td>\n",
       "      <td>86</td>\n",
       "    </tr>\n",
       "    <tr>\n",
       "      <th>2</th>\n",
       "      <td>2.0</td>\n",
       "      <td>2</td>\n",
       "      <td>3</td>\n",
       "      <td>0</td>\n",
       "      <td>0</td>\n",
       "      <td>1</td>\n",
       "      <td>17099.0</td>\n",
       "      <td>86</td>\n",
       "    </tr>\n",
       "    <tr>\n",
       "      <th>3</th>\n",
       "      <td>2.0</td>\n",
       "      <td>2</td>\n",
       "      <td>3</td>\n",
       "      <td>0</td>\n",
       "      <td>0</td>\n",
       "      <td>1</td>\n",
       "      <td>14499.0</td>\n",
       "      <td>89</td>\n",
       "    </tr>\n",
       "    <tr>\n",
       "      <th>4</th>\n",
       "      <td>1.0</td>\n",
       "      <td>3</td>\n",
       "      <td>3</td>\n",
       "      <td>0</td>\n",
       "      <td>0</td>\n",
       "      <td>1</td>\n",
       "      <td>14599.0</td>\n",
       "      <td>86</td>\n",
       "    </tr>\n",
       "  </tbody>\n",
       "</table>\n",
       "</div>"
      ],
      "text/plain": [
       "   Asilabilir_Engel_Seviyesi  Haritalandirma  Hazne_Kapasitesi  \\\n",
       "0                        2.0               3                 3   \n",
       "1                        2.0               2                 3   \n",
       "2                        2.0               2                 3   \n",
       "3                        2.0               2                 3   \n",
       "4                        1.0               3                 3   \n",
       "\n",
       "   Uygulama_Uzerinden_Kontrol  Yer_Silme_Ozelligi  Sarjli_Kullanim_Suresi  \\\n",
       "0                           0                   0                       3   \n",
       "1                           0                   0                       1   \n",
       "2                           0                   0                       1   \n",
       "3                           0                   0                       1   \n",
       "4                           0                   0                       1   \n",
       "\n",
       "     Fiyat  marka  \n",
       "0   9299.0    123  \n",
       "1  18499.0     86  \n",
       "2  17099.0     86  \n",
       "3  14499.0     89  \n",
       "4  14599.0     86  "
      ]
     },
     "execution_count": 41,
     "metadata": {},
     "output_type": "execute_result"
    }
   ],
   "source": [
    "dataset.head()"
   ]
  },
  {
   "cell_type": "code",
   "execution_count": 42,
   "id": "0f5f7c7c",
   "metadata": {},
   "outputs": [
    {
     "data": {
      "text/plain": [
       "Fiyat\n",
       "21999.0     34\n",
       "34999.0     22\n",
       "1999.0      17\n",
       "9999.0      16\n",
       "12999.0     13\n",
       "            ..\n",
       "355490.0     1\n",
       "98441.0      1\n",
       "18990.0      1\n",
       "12669.0      1\n",
       "200.0        1\n",
       "Name: count, Length: 439, dtype: int64"
      ]
     },
     "execution_count": 42,
     "metadata": {},
     "output_type": "execute_result"
    }
   ],
   "source": [
    "dataset['Fiyat'].value_counts()"
   ]
  },
  {
   "cell_type": "code",
   "execution_count": 43,
   "id": "b41ef779",
   "metadata": {},
   "outputs": [],
   "source": [
    "X = dataset.iloc[:, 0:7].values\n",
    "y = dataset.iloc[:, -2].values\n",
    "y = y.reshape(-1, 1) "
   ]
  },
  {
   "cell_type": "code",
   "execution_count": 44,
   "id": "4406b330",
   "metadata": {},
   "outputs": [],
   "source": [
    "from sklearn.model_selection import train_test_split\n",
    "X_train, X_test, y_train, y_test = train_test_split(X, y, test_size = 0.2, random_state = 0)"
   ]
  },
  {
   "cell_type": "code",
   "execution_count": 45,
   "id": "c3e96a57",
   "metadata": {},
   "outputs": [
    {
     "name": "stdout",
     "output_type": "stream",
     "text": [
      "X_train:  (587, 7)\n",
      "X_test:  (147, 7)\n",
      "y_train:  (587, 1)\n",
      "y_test:  (147, 1)\n"
     ]
    }
   ],
   "source": [
    "print(\"X_train: \",X_train.shape)\n",
    "print(\"X_test: \",X_test.shape)\n",
    "print(\"y_train: \",y_train.shape)\n",
    "print(\"y_test: \",y_test.shape)"
   ]
  },
  {
   "cell_type": "code",
   "execution_count": 46,
   "id": "58654dee",
   "metadata": {},
   "outputs": [
    {
     "name": "stdout",
     "output_type": "stream",
     "text": [
      " 3 nn score: 0.9995397557018639 \n"
     ]
    }
   ],
   "source": [
    "from sklearn.neighbors import KNeighborsRegressor\n",
    "\n",
    "knn = KNeighborsRegressor(n_neighbors=3)\n",
    "knn.fit(X_train, y_train)\n",
    "prediction = knn.predict(X_test)\n",
    "print(\" {} nn score: {} \".format(3,knn.score(X_test,y_test)))"
   ]
  },
  {
   "cell_type": "code",
   "execution_count": 47,
   "id": "69545445",
   "metadata": {},
   "outputs": [
    {
     "data": {
      "image/png": "[encoded data removed]",
      "text/plain": [
       "<Figure size 640x480 with 1 Axes>"
      ]
     },
     "metadata": {},
     "output_type": "display_data"
    }
   ],
   "source": [
    "score_list = []\n",
    "for each in range(1,15):\n",
    "    knn2 = KNeighborsRegressor(n_neighbors=each)\n",
    "    knn2.fit(X_train, y_train)\n",
    "    score_list.append(knn2.score(X_test,y_test))\n",
    "    \n",
    "plt.plot(range(1,15),score_list)\n",
    "plt.xlabel(\"k values\")\n",
    "plt.ylabel(\"accuracy\")\n",
    "plt.show()"
   ]
  },
  {
   "cell_type": "code",
   "execution_count": 48,
   "id": "628c51b5",
   "metadata": {},
   "outputs": [
    {
     "name": "stdout",
     "output_type": "stream",
     "text": [
      " 6 nn score: 0.9996440584847459 \n"
     ]
    }
   ],
   "source": [
    "# en iyi sonucu 2 de aldık \n",
    "from sklearn.neighbors import KNeighborsRegressor\n",
    "\n",
    "knn = KNeighborsRegressor(n_neighbors=2)\n",
    "knn.fit(X_train, y_train)\n",
    "prediction = knn.predict(X_test)\n",
    "print(\" {} nn score: {} \".format(6,knn.score(X_test,y_test)))"
   ]
  },
  {
   "cell_type": "code",
   "execution_count": 49,
   "id": "a992d00e",
   "metadata": {},
   "outputs": [
    {
     "name": "stdout",
     "output_type": "stream",
     "text": [
      "Decision Tree Regresyon RMS Değeri: 1246.9807618436473\n"
     ]
    }
   ],
   "source": [
    "\n",
    "DT_RMS = math.sqrt(mean_squared_error(y_test,prediction))\n",
    "print(\"Decision Tree Regresyon RMS Değeri:\", DT_RMS)"
   ]
  },
  {
   "cell_type": "code",
   "execution_count": 50,
   "id": "024b2978",
   "metadata": {},
   "outputs": [
    {
     "data": {
      "text/plain": [
       "['../Modelpkl/KNN_model.pkl']"
      ]
     },
     "execution_count": 50,
     "metadata": {},
     "output_type": "execute_result"
    }
   ],
   "source": [
    "import joblib\n",
    "joblib.dump(knn, \"../Modelpkl/KNN_model.pkl\")"
   ]
  },
  {
   "cell_type": "code",
   "execution_count": null,
   "id": "6fb4f5c5",
   "metadata": {},
   "outputs": [],
   "source": []
  }
 ],
 "metadata": {
  "kernelspec": {
   "display_name": "Python 3 (ipykernel)",
   "language": "python",
   "name": "python3"
  },
  "language_info": {
   "codemirror_mode": {
    "name": "ipython",
    "version": 3
   },
   "file_extension": ".py",
   "mimetype": "text/x-python",
   "name": "python",
   "nbconvert_exporter": "python",
   "pygments_lexer": "ipython3",
   "version": "3.11.5"
  }
 },
 "nbformat": 4,
 "nbformat_minor": 5
}
